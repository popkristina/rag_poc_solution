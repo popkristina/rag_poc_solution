{
 "cells": [
  {
   "cell_type": "markdown",
   "id": "064eeab0-1c35-434a-bf0d-cef9348b338d",
   "metadata": {},
   "source": [
    "# Notebook for trying out Langchain\n",
    "## (Not part of solution)"
   ]
  },
  {
   "cell_type": "code",
   "execution_count": 1,
   "id": "6e36a66c-8507-428c-ac9e-3b11d774ff71",
   "metadata": {},
   "outputs": [],
   "source": [
    "import langchain\n",
    "import pandas as pd\n",
    "import numpy as np\n",
    "import os\n",
    "import re\n",
    "import glob\n",
    "import json\n",
    "import matplotlib.pyplot as plt\n",
    "from langchain_text_splitters import MarkdownHeaderTextSplitter"
   ]
  },
  {
   "cell_type": "markdown",
   "id": "b8fa1c23-05c7-4e81-9310-59222b443df9",
   "metadata": {},
   "source": [
    "### Get data"
   ]
  },
  {
   "cell_type": "code",
   "execution_count": 2,
   "id": "fdb62788-5bf8-46ac-857b-0da0d2d2f465",
   "metadata": {},
   "outputs": [],
   "source": [
    "folder_path = '../data/raw'\n",
    "md_files = glob.glob(os.path.join(folder_path, '*.md'))\n",
    "\n",
    "# Create an empty list to store the data\n",
    "data = []\n",
    "\n",
    "# Read the contents of each .md file and store in the list\n",
    "for file in md_files:\n",
    "    with open(file, 'r', encoding='utf-8') as f:\n",
    "        content = f.read()\n",
    "        doc_name = os.path.splitext(os.path.basename(file))[0]  \n",
    "        data.append({'id': doc_name, 'text': content})\n",
    "\n",
    "# Convert the list to a DataFrame\n",
    "df = pd.DataFrame(data)"
   ]
  },
  {
   "cell_type": "markdown",
   "id": "ae39ee2f-b165-4e2a-b117-207a2add851c",
   "metadata": {},
   "source": [
    "### Checkout markdown text splitter"
   ]
  },
  {
   "cell_type": "code",
   "execution_count": 3,
   "id": "f55ff385-3669-479a-8eb5-c739cd574f8b",
   "metadata": {},
   "outputs": [],
   "source": [
    "# test\n",
    "\n",
    "markdown_document = \"# Foo\\n\\n    ## Bar\\n\\nHi this is Jim\\n\\nHi this is Joe\\n\\n ### Boo \\n\\n Hi this is Lance \\n\\n ## Baz\\n\\n Hi this is Molly\"\n",
    "\n",
    "headers_to_split_on = [\n",
    "    (\"#\", \"Header 1\"),\n",
    "    (\"##\", \"Header 2\"),\n",
    "    (\"###\", \"Header 3\"),\n",
    "]"
   ]
  },
  {
   "cell_type": "code",
   "execution_count": 4,
   "id": "62c40097-b26a-4e6a-a2d9-d802d6cdb4de",
   "metadata": {},
   "outputs": [
    {
     "data": {
      "text/plain": [
       "[Document(metadata={'Header 1': 'Foo', 'Header 2': 'Bar'}, page_content='Hi this is Jim  \\nHi this is Joe'),\n",
       " Document(metadata={'Header 1': 'Foo', 'Header 2': 'Bar', 'Header 3': 'Boo'}, page_content='Hi this is Lance'),\n",
       " Document(metadata={'Header 1': 'Foo', 'Header 2': 'Baz'}, page_content='Hi this is Molly')]"
      ]
     },
     "execution_count": 4,
     "metadata": {},
     "output_type": "execute_result"
    }
   ],
   "source": [
    "markdown_splitter = MarkdownHeaderTextSplitter(headers_to_split_on=headers_to_split_on)\n",
    "md_header_splits = markdown_splitter.split_text(markdown_document)\n",
    "md_header_splits"
   ]
  },
  {
   "cell_type": "code",
   "execution_count": 5,
   "id": "55de5ad9-abc0-4b03-a8c2-044cc473383f",
   "metadata": {},
   "outputs": [
    {
     "data": {
      "text/plain": [
       "[Document(metadata={'Header 1': 'Foo', 'Header 2': 'Bar'}, page_content='# Foo  \\n## Bar  \\nHi this is Jim  \\nHi this is Joe'),\n",
       " Document(metadata={'Header 1': 'Foo', 'Header 2': 'Bar', 'Header 3': 'Boo'}, page_content='### Boo  \\nHi this is Lance'),\n",
       " Document(metadata={'Header 1': 'Foo', 'Header 2': 'Baz'}, page_content='## Baz  \\nHi this is Molly')]"
      ]
     },
     "execution_count": 5,
     "metadata": {},
     "output_type": "execute_result"
    }
   ],
   "source": [
    "markdown_splitter = MarkdownHeaderTextSplitter(\n",
    "    headers_to_split_on=headers_to_split_on, strip_headers=False\n",
    ")\n",
    "md_header_splits = markdown_splitter.split_text(markdown_document)\n",
    "md_header_splits"
   ]
  },
  {
   "cell_type": "markdown",
   "id": "d381fd7c-5c03-4cc8-8250-af625d3d2cdb",
   "metadata": {},
   "source": [
    "### Apply the splitting function to each document in the DataFrame"
   ]
  },
  {
   "cell_type": "code",
   "execution_count": 6,
   "id": "5e1ef716-93ff-4787-86f2-0a3277c7b4d7",
   "metadata": {},
   "outputs": [],
   "source": [
    "df['splitted_text'] = df['text'].apply(markdown_splitter.split_text)"
   ]
  },
  {
   "cell_type": "code",
   "execution_count": 7,
   "id": "3fa625c0-c251-4c67-8e1c-b420d06ab0d4",
   "metadata": {},
   "outputs": [
    {
     "data": {
      "text/html": [
       "<div>\n",
       "<style scoped>\n",
       "    .dataframe tbody tr th:only-of-type {\n",
       "        vertical-align: middle;\n",
       "    }\n",
       "\n",
       "    .dataframe tbody tr th {\n",
       "        vertical-align: top;\n",
       "    }\n",
       "\n",
       "    .dataframe thead th {\n",
       "        text-align: right;\n",
       "    }\n",
       "</style>\n",
       "<table border=\"1\" class=\"dataframe\">\n",
       "  <thead>\n",
       "    <tr style=\"text-align: right;\">\n",
       "      <th></th>\n",
       "      <th>id</th>\n",
       "      <th>text</th>\n",
       "      <th>splitted_text</th>\n",
       "    </tr>\n",
       "  </thead>\n",
       "  <tbody>\n",
       "    <tr>\n",
       "      <th>0</th>\n",
       "      <td>aws-properties-sagemaker-modelbiasjobdefinitio...</td>\n",
       "      <td># AWS::SageMaker::ModelBiasJobDefinition Endpo...</td>\n",
       "      <td>[page_content='# AWS::SageMaker::ModelBiasJobD...</td>\n",
       "    </tr>\n",
       "    <tr>\n",
       "      <th>1</th>\n",
       "      <td>aws-properties-sagemaker-notebookinstance-inst...</td>\n",
       "      <td># AWS::SageMaker::NotebookInstance InstanceMet...</td>\n",
       "      <td>[page_content='# AWS::SageMaker::NotebookInsta...</td>\n",
       "    </tr>\n",
       "    <tr>\n",
       "      <th>2</th>\n",
       "      <td>aws-resource-sagemaker-project</td>\n",
       "      <td># AWS::SageMaker::Project&lt;a name=\"aws-resource...</td>\n",
       "      <td>[page_content='# AWS::SageMaker::Project&lt;a nam...</td>\n",
       "    </tr>\n",
       "    <tr>\n",
       "      <th>3</th>\n",
       "      <td>aws-properties-sagemaker-modelexplainabilityjo...</td>\n",
       "      <td># AWS::SageMaker::ModelExplainabilityJobDefini...</td>\n",
       "      <td>[page_content='# AWS::SageMaker::ModelExplaina...</td>\n",
       "    </tr>\n",
       "    <tr>\n",
       "      <th>4</th>\n",
       "      <td>aws-properties-sagemaker-modelqualityjobdefini...</td>\n",
       "      <td># AWS::SageMaker::ModelQualityJobDefinition Mo...</td>\n",
       "      <td>[page_content='# AWS::SageMaker::ModelQualityJ...</td>\n",
       "    </tr>\n",
       "  </tbody>\n",
       "</table>\n",
       "</div>"
      ],
      "text/plain": [
       "                                                  id  \\\n",
       "0  aws-properties-sagemaker-modelbiasjobdefinitio...   \n",
       "1  aws-properties-sagemaker-notebookinstance-inst...   \n",
       "2                     aws-resource-sagemaker-project   \n",
       "3  aws-properties-sagemaker-modelexplainabilityjo...   \n",
       "4  aws-properties-sagemaker-modelqualityjobdefini...   \n",
       "\n",
       "                                                text  \\\n",
       "0  # AWS::SageMaker::ModelBiasJobDefinition Endpo...   \n",
       "1  # AWS::SageMaker::NotebookInstance InstanceMet...   \n",
       "2  # AWS::SageMaker::Project<a name=\"aws-resource...   \n",
       "3  # AWS::SageMaker::ModelExplainabilityJobDefini...   \n",
       "4  # AWS::SageMaker::ModelQualityJobDefinition Mo...   \n",
       "\n",
       "                                       splitted_text  \n",
       "0  [page_content='# AWS::SageMaker::ModelBiasJobD...  \n",
       "1  [page_content='# AWS::SageMaker::NotebookInsta...  \n",
       "2  [page_content='# AWS::SageMaker::Project<a nam...  \n",
       "3  [page_content='# AWS::SageMaker::ModelExplaina...  \n",
       "4  [page_content='# AWS::SageMaker::ModelQualityJ...  "
      ]
     },
     "execution_count": 7,
     "metadata": {},
     "output_type": "execute_result"
    }
   ],
   "source": [
    "df.head()"
   ]
  },
  {
   "cell_type": "code",
   "execution_count": 8,
   "id": "9b88c8a4-817e-4eb8-ae6a-48cebf4545d1",
   "metadata": {},
   "outputs": [
    {
     "data": {
      "text/plain": [
       "5"
      ]
     },
     "execution_count": 8,
     "metadata": {},
     "output_type": "execute_result"
    }
   ],
   "source": [
    "len(df.iloc[0]['splitted_text'])"
   ]
  },
  {
   "cell_type": "code",
   "execution_count": 15,
   "id": "6f892eee-7a78-4e38-b22a-cf26b5dc66a5",
   "metadata": {
    "scrolled": true
   },
   "outputs": [
    {
     "data": {
      "text/plain": [
       "[Document(metadata={'Header 1': 'AWS::SageMaker::ModelBiasJobDefinition EndpointInput<a name=\"aws-properties-sagemaker-modelbiasjobdefinition-endpointinput\"></a>'}, page_content='# AWS::SageMaker::ModelBiasJobDefinition EndpointInput<a name=\"aws-properties-sagemaker-modelbiasjobdefinition-endpointinput\"></a>  \\nInput object for the endpoint'),\n",
       " Document(metadata={'Header 1': 'AWS::SageMaker::ModelBiasJobDefinition EndpointInput<a name=\"aws-properties-sagemaker-modelbiasjobdefinition-endpointinput\"></a>', 'Header 2': 'Syntax<a name=\"aws-properties-sagemaker-modelbiasjobdefinition-endpointinput-syntax\"></a>'}, page_content='## Syntax<a name=\"aws-properties-sagemaker-modelbiasjobdefinition-endpointinput-syntax\"></a>  \\nTo declare this entity in your AWS CloudFormation template, use the following syntax:'),\n",
       " Document(metadata={'Header 1': 'AWS::SageMaker::ModelBiasJobDefinition EndpointInput<a name=\"aws-properties-sagemaker-modelbiasjobdefinition-endpointinput\"></a>', 'Header 2': 'Syntax<a name=\"aws-properties-sagemaker-modelbiasjobdefinition-endpointinput-syntax\"></a>', 'Header 3': 'JSON<a name=\"aws-properties-sagemaker-modelbiasjobdefinition-endpointinput-syntax.json\"></a>'}, page_content='### JSON<a name=\"aws-properties-sagemaker-modelbiasjobdefinition-endpointinput-syntax.json\"></a>  \\n```\\n{\\n\"[EndpointName](#cfn-sagemaker-modelbiasjobdefinition-endpointinput-endpointname)\" : String,\\n\"[EndTimeOffset](#cfn-sagemaker-modelbiasjobdefinition-endpointinput-endtimeoffset)\" : String,\\n\"[FeaturesAttribute](#cfn-sagemaker-modelbiasjobdefinition-endpointinput-featuresattribute)\" : String,\\n\"[InferenceAttribute](#cfn-sagemaker-modelbiasjobdefinition-endpointinput-inferenceattribute)\" : String,\\n\"[LocalPath](#cfn-sagemaker-modelbiasjobdefinition-endpointinput-localpath)\" : String,\\n\"[ProbabilityAttribute](#cfn-sagemaker-modelbiasjobdefinition-endpointinput-probabilityattribute)\" : String,\\n\"[ProbabilityThresholdAttribute](#cfn-sagemaker-modelbiasjobdefinition-endpointinput-probabilitythresholdattribute)\" : Double,\\n\"[S3DataDistributionType](#cfn-sagemaker-modelbiasjobdefinition-endpointinput-s3datadistributiontype)\" : String,\\n\"[S3InputMode](#cfn-sagemaker-modelbiasjobdefinition-endpointinput-s3inputmode)\" : String,\\n\"[StartTimeOffset](#cfn-sagemaker-modelbiasjobdefinition-endpointinput-starttimeoffset)\" : String\\n}\\n```'),\n",
       " Document(metadata={'Header 1': 'AWS::SageMaker::ModelBiasJobDefinition EndpointInput<a name=\"aws-properties-sagemaker-modelbiasjobdefinition-endpointinput\"></a>', 'Header 2': 'Syntax<a name=\"aws-properties-sagemaker-modelbiasjobdefinition-endpointinput-syntax\"></a>', 'Header 3': 'YAML<a name=\"aws-properties-sagemaker-modelbiasjobdefinition-endpointinput-syntax.yaml\"></a>'}, page_content='### YAML<a name=\"aws-properties-sagemaker-modelbiasjobdefinition-endpointinput-syntax.yaml\"></a>  \\n```\\n[EndpointName](#cfn-sagemaker-modelbiasjobdefinition-endpointinput-endpointname): String\\n[EndTimeOffset](#cfn-sagemaker-modelbiasjobdefinition-endpointinput-endtimeoffset): String\\n[FeaturesAttribute](#cfn-sagemaker-modelbiasjobdefinition-endpointinput-featuresattribute): String\\n[InferenceAttribute](#cfn-sagemaker-modelbiasjobdefinition-endpointinput-inferenceattribute): String\\n[LocalPath](#cfn-sagemaker-modelbiasjobdefinition-endpointinput-localpath): String\\n[ProbabilityAttribute](#cfn-sagemaker-modelbiasjobdefinition-endpointinput-probabilityattribute): String\\n[ProbabilityThresholdAttribute](#cfn-sagemaker-modelbiasjobdefinition-endpointinput-probabilitythresholdattribute): Double\\n[S3DataDistributionType](#cfn-sagemaker-modelbiasjobdefinition-endpointinput-s3datadistributiontype): String\\n[S3InputMode](#cfn-sagemaker-modelbiasjobdefinition-endpointinput-s3inputmode): String\\n[StartTimeOffset](#cfn-sagemaker-modelbiasjobdefinition-endpointinput-starttimeoffset): String\\n```'),\n",
       " Document(metadata={'Header 1': 'AWS::SageMaker::ModelBiasJobDefinition EndpointInput<a name=\"aws-properties-sagemaker-modelbiasjobdefinition-endpointinput\"></a>', 'Header 2': 'Properties<a name=\"aws-properties-sagemaker-modelbiasjobdefinition-endpointinput-properties\"></a>'}, page_content='## Properties<a name=\"aws-properties-sagemaker-modelbiasjobdefinition-endpointinput-properties\"></a>  \\n`EndpointName`  <a name=\"cfn-sagemaker-modelbiasjobdefinition-endpointinput-endpointname\"></a>\\nAn endpoint in customer\\'s account which has enabled `DataCaptureConfig` enabled\\\\.\\n*Required*: Yes\\n*Type*: String\\n*Maximum*: `63`\\n*Pattern*: `^[a-zA-Z0-9](-*[a-zA-Z0-9]){0,62}`\\n*Update requires*: [Replacement](https://docs.aws.amazon.com/AWSCloudFormation/latest/UserGuide/using-cfn-updating-stacks-update-behaviors.html#update-replacement)  \\n`EndTimeOffset`  <a name=\"cfn-sagemaker-modelbiasjobdefinition-endpointinput-endtimeoffset\"></a>\\nIf specified, monitoring jobs substract this time from the end time\\\\. For information about using offsets for scheduling monitoring jobs, see [Schedule Model Quality Monitoring Jobs](https://docs.aws.amazon.com/sagemaker/latest/dg/model-monitor-model-quality-schedule.html)\\\\.\\n*Required*: No\\n*Type*: String\\n*Minimum*: `1`\\n*Maximum*: `15`\\n*Pattern*: `^.?P.*`\\n*Update requires*: [Replacement](https://docs.aws.amazon.com/AWSCloudFormation/latest/UserGuide/using-cfn-updating-stacks-update-behaviors.html#update-replacement)  \\n`FeaturesAttribute`  <a name=\"cfn-sagemaker-modelbiasjobdefinition-endpointinput-featuresattribute\"></a>\\nThe attributes of the input data that are the input features\\\\.\\n*Required*: No\\n*Type*: String\\n*Update requires*: [Replacement](https://docs.aws.amazon.com/AWSCloudFormation/latest/UserGuide/using-cfn-updating-stacks-update-behaviors.html#update-replacement)  \\n`InferenceAttribute`  <a name=\"cfn-sagemaker-modelbiasjobdefinition-endpointinput-inferenceattribute\"></a>\\nThe attribute of the input data that represents the ground truth label\\\\.\\n*Required*: No\\n*Type*: String\\n*Update requires*: [Replacement](https://docs.aws.amazon.com/AWSCloudFormation/latest/UserGuide/using-cfn-updating-stacks-update-behaviors.html#update-replacement)  \\n`LocalPath`  <a name=\"cfn-sagemaker-modelbiasjobdefinition-endpointinput-localpath\"></a>\\nPath to the filesystem where the endpoint data is available to the container\\\\.\\n*Required*: Yes\\n*Type*: String\\n*Maximum*: `256`\\n*Pattern*: `.*`\\n*Update requires*: [Replacement](https://docs.aws.amazon.com/AWSCloudFormation/latest/UserGuide/using-cfn-updating-stacks-update-behaviors.html#update-replacement)  \\n`ProbabilityAttribute`  <a name=\"cfn-sagemaker-modelbiasjobdefinition-endpointinput-probabilityattribute\"></a>\\nIn a classification problem, the attribute that represents the class probability\\\\.\\n*Required*: No\\n*Type*: String\\n*Update requires*: [Replacement](https://docs.aws.amazon.com/AWSCloudFormation/latest/UserGuide/using-cfn-updating-stacks-update-behaviors.html#update-replacement)  \\n`ProbabilityThresholdAttribute`  <a name=\"cfn-sagemaker-modelbiasjobdefinition-endpointinput-probabilitythresholdattribute\"></a>\\nThe threshold for the class probability to be evaluated as a positive result\\\\.\\n*Required*: No\\n*Type*: Double\\n*Update requires*: [Replacement](https://docs.aws.amazon.com/AWSCloudFormation/latest/UserGuide/using-cfn-updating-stacks-update-behaviors.html#update-replacement)  \\n`S3DataDistributionType`  <a name=\"cfn-sagemaker-modelbiasjobdefinition-endpointinput-s3datadistributiontype\"></a>\\nWhether input data distributed in Amazon S3 is fully replicated or sharded by an S3 key\\\\. Defaults to `FullyReplicated`\\n*Required*: No\\n*Type*: String\\n*Allowed values*: `FullyReplicated | ShardedByS3Key`\\n*Update requires*: [Replacement](https://docs.aws.amazon.com/AWSCloudFormation/latest/UserGuide/using-cfn-updating-stacks-update-behaviors.html#update-replacement)  \\n`S3InputMode`  <a name=\"cfn-sagemaker-modelbiasjobdefinition-endpointinput-s3inputmode\"></a>\\nWhether the `Pipe` or `File` is used as the input mode for transferring data for the monitoring job\\\\. `Pipe` mode is recommended for large datasets\\\\. `File` mode is useful for small files that fit in memory\\\\. Defaults to `File`\\\\.\\n*Required*: No\\n*Type*: String\\n*Allowed values*: `File | Pipe`\\n*Update requires*: [Replacement](https://docs.aws.amazon.com/AWSCloudFormation/latest/UserGuide/using-cfn-updating-stacks-update-behaviors.html#update-replacement)  \\n`StartTimeOffset`  <a name=\"cfn-sagemaker-modelbiasjobdefinition-endpointinput-starttimeoffset\"></a>\\nIf specified, monitoring jobs substract this time from the start time\\\\. For information about using offsets for scheduling monitoring jobs, see [Schedule Model Quality Monitoring Jobs](https://docs.aws.amazon.com/sagemaker/latest/dg/model-monitor-model-quality-schedule.html)\\\\.\\n*Required*: No\\n*Type*: String\\n*Minimum*: `1`\\n*Maximum*: `15`\\n*Pattern*: `^.?P.*`\\n*Update requires*: [Replacement](https://docs.aws.amazon.com/AWSCloudFormation/latest/UserGuide/using-cfn-updating-stacks-update-behaviors.html#update-replacement)')]"
      ]
     },
     "execution_count": 15,
     "metadata": {},
     "output_type": "execute_result"
    }
   ],
   "source": [
    "df.iloc[0]['splitted_text']"
   ]
  },
  {
   "cell_type": "code",
   "execution_count": 10,
   "id": "b3347dca-79ce-42f4-bdfe-e8ec0365faae",
   "metadata": {},
   "outputs": [
    {
     "data": {
      "text/plain": [
       "5"
      ]
     },
     "execution_count": 10,
     "metadata": {},
     "output_type": "execute_result"
    }
   ],
   "source": [
    "len(df.iloc[4]['splitted_text'])"
   ]
  },
  {
   "cell_type": "code",
   "execution_count": null,
   "id": "01b4ea10-30c5-4b41-aef8-e6ee4f791b62",
   "metadata": {},
   "outputs": [],
   "source": []
  }
 ],
 "metadata": {
  "kernelspec": {
   "display_name": "Python 3 (ipykernel)",
   "language": "python",
   "name": "python3"
  },
  "language_info": {
   "codemirror_mode": {
    "name": "ipython",
    "version": 3
   },
   "file_extension": ".py",
   "mimetype": "text/x-python",
   "name": "python",
   "nbconvert_exporter": "python",
   "pygments_lexer": "ipython3",
   "version": "3.10.14"
  }
 },
 "nbformat": 4,
 "nbformat_minor": 5
}
