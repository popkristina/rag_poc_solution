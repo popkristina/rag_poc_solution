{
 "cells": [
  {
   "cell_type": "markdown",
   "id": "64b0e790-581d-4ea2-8fa8-647668498462",
   "metadata": {},
   "source": [
    "## Was intended for experimentation with deployment\n",
    "\n",
    "### Cannot deploy model, probably because of free trial"
   ]
  },
  {
   "cell_type": "code",
   "execution_count": 2,
   "id": "8ae8d915-23c2-4440-be6a-059bf4ecb487",
   "metadata": {
    "scrolled": true
   },
   "outputs": [
    {
     "name": "stdout",
     "output_type": "stream",
     "text": [
      "\u001b[31mERROR: pip's dependency resolver does not currently take into account all the packages that are installed. This behaviour is the source of the following dependency conflicts.\n",
      "aiobotocore 2.13.1 requires botocore<1.34.132,>=1.34.70, but you have botocore 1.35.16 which is incompatible.\n",
      "amazon-sagemaker-sql-magic 0.1.3 requires sqlparse==0.5.0, but you have sqlparse 0.5.1 which is incompatible.\n",
      "autogluon-common 0.8.3 requires pandas<1.6,>=1.4.1, but you have pandas 2.1.4 which is incompatible.\n",
      "autogluon-core 0.8.3 requires pandas<1.6,>=1.4.1, but you have pandas 2.1.4 which is incompatible.\n",
      "autogluon-core 0.8.3 requires scikit-learn<1.4.1,>=1.1, but you have scikit-learn 1.4.2 which is incompatible.\n",
      "autogluon-features 0.8.3 requires pandas<1.6,>=1.4.1, but you have pandas 2.1.4 which is incompatible.\n",
      "autogluon-features 0.8.3 requires scikit-learn<1.4.1,>=1.1, but you have scikit-learn 1.4.2 which is incompatible.\n",
      "autogluon-multimodal 0.8.3 requires pandas<1.6,>=1.4.1, but you have pandas 2.1.4 which is incompatible.\n",
      "autogluon-multimodal 0.8.3 requires pytorch-lightning<1.10.0,>=1.9.0, but you have pytorch-lightning 2.0.9 which is incompatible.\n",
      "autogluon-multimodal 0.8.3 requires scikit-learn<1.4.1,>=1.1, but you have scikit-learn 1.4.2 which is incompatible.\n",
      "autogluon-multimodal 0.8.3 requires torch<1.14,>=1.9, but you have torch 2.0.0.post104 which is incompatible.\n",
      "autogluon-multimodal 0.8.3 requires torchmetrics<0.12.0,>=0.11.0, but you have torchmetrics 1.0.3 which is incompatible.\n",
      "autogluon-multimodal 0.8.3 requires torchvision<0.15.0, but you have torchvision 0.15.2a0+ab7b3e6 which is incompatible.\n",
      "autogluon-tabular 0.8.3 requires pandas<1.6,>=1.4.1, but you have pandas 2.1.4 which is incompatible.\n",
      "autogluon-tabular 0.8.3 requires scikit-learn<1.4.1,>=1.1, but you have scikit-learn 1.4.2 which is incompatible.\n",
      "autogluon-timeseries 0.8.3 requires pandas<1.6,>=1.4.1, but you have pandas 2.1.4 which is incompatible.\n",
      "autogluon-timeseries 0.8.3 requires pytorch-lightning<1.10.0,>=1.7.4, but you have pytorch-lightning 2.0.9 which is incompatible.\n",
      "autogluon-timeseries 0.8.3 requires torch<1.14,>=1.9, but you have torch 2.0.0.post104 which is incompatible.\n",
      "langchain-aws 0.1.15 requires boto3<1.35.0,>=1.34.131, but you have boto3 1.35.16 which is incompatible.\u001b[0m\u001b[31m\n",
      "\u001b[0mCollecting cohere-sagemaker\n",
      "  Downloading cohere-sagemaker-0.8.1.tar.gz (10 kB)\n",
      "  Preparing metadata (setup.py) ... \u001b[?25ldone\n",
      "\u001b[?25hRequirement already satisfied: boto3 in /opt/conda/lib/python3.10/site-packages (from cohere-sagemaker) (1.35.16)\n",
      "Requirement already satisfied: sagemaker in /opt/conda/lib/python3.10/site-packages (from cohere-sagemaker) (2.231.0)\n",
      "Requirement already satisfied: botocore<1.36.0,>=1.35.16 in /opt/conda/lib/python3.10/site-packages (from boto3->cohere-sagemaker) (1.35.16)\n",
      "Requirement already satisfied: jmespath<2.0.0,>=0.7.1 in /opt/conda/lib/python3.10/site-packages (from boto3->cohere-sagemaker) (1.0.1)\n",
      "Requirement already satisfied: s3transfer<0.11.0,>=0.10.0 in /opt/conda/lib/python3.10/site-packages (from boto3->cohere-sagemaker) (0.10.2)\n",
      "Requirement already satisfied: attrs<24,>=23.1.0 in /opt/conda/lib/python3.10/site-packages (from sagemaker->cohere-sagemaker) (23.2.0)\n",
      "Requirement already satisfied: cloudpickle==2.2.1 in /opt/conda/lib/python3.10/site-packages (from sagemaker->cohere-sagemaker) (2.2.1)\n",
      "Requirement already satisfied: docker in /opt/conda/lib/python3.10/site-packages (from sagemaker->cohere-sagemaker) (7.1.0)\n",
      "Requirement already satisfied: google-pasta in /opt/conda/lib/python3.10/site-packages (from sagemaker->cohere-sagemaker) (0.2.0)\n",
      "Requirement already satisfied: importlib-metadata<7.0,>=1.4.0 in /opt/conda/lib/python3.10/site-packages (from sagemaker->cohere-sagemaker) (6.10.0)\n",
      "Requirement already satisfied: jsonschema in /opt/conda/lib/python3.10/site-packages (from sagemaker->cohere-sagemaker) (4.17.3)\n",
      "Requirement already satisfied: numpy<2.0,>=1.9.0 in /opt/conda/lib/python3.10/site-packages (from sagemaker->cohere-sagemaker) (1.26.4)\n",
      "Requirement already satisfied: packaging>=20.0 in /opt/conda/lib/python3.10/site-packages (from sagemaker->cohere-sagemaker) (24.1)\n",
      "Requirement already satisfied: pandas in /opt/conda/lib/python3.10/site-packages (from sagemaker->cohere-sagemaker) (2.1.4)\n",
      "Requirement already satisfied: pathos in /opt/conda/lib/python3.10/site-packages (from sagemaker->cohere-sagemaker) (0.3.2)\n",
      "Requirement already satisfied: platformdirs in /opt/conda/lib/python3.10/site-packages (from sagemaker->cohere-sagemaker) (4.2.2)\n",
      "Requirement already satisfied: protobuf<5.0,>=3.12 in /opt/conda/lib/python3.10/site-packages (from sagemaker->cohere-sagemaker) (4.24.4)\n",
      "Requirement already satisfied: psutil in /opt/conda/lib/python3.10/site-packages (from sagemaker->cohere-sagemaker) (5.9.8)\n",
      "Requirement already satisfied: pyyaml~=6.0 in /opt/conda/lib/python3.10/site-packages (from sagemaker->cohere-sagemaker) (6.0.1)\n",
      "Requirement already satisfied: requests in /opt/conda/lib/python3.10/site-packages (from sagemaker->cohere-sagemaker) (2.32.3)\n",
      "Requirement already satisfied: sagemaker-core<2.0.0,>=1.0.0 in /opt/conda/lib/python3.10/site-packages (from sagemaker->cohere-sagemaker) (1.0.4)\n",
      "Requirement already satisfied: schema in /opt/conda/lib/python3.10/site-packages (from sagemaker->cohere-sagemaker) (0.7.7)\n",
      "Requirement already satisfied: smdebug-rulesconfig==1.0.1 in /opt/conda/lib/python3.10/site-packages (from sagemaker->cohere-sagemaker) (1.0.1)\n",
      "Requirement already satisfied: tblib<4,>=1.7.0 in /opt/conda/lib/python3.10/site-packages (from sagemaker->cohere-sagemaker) (2.0.0)\n",
      "Requirement already satisfied: tqdm in /opt/conda/lib/python3.10/site-packages (from sagemaker->cohere-sagemaker) (4.66.5)\n",
      "Requirement already satisfied: urllib3<3.0.0,>=1.26.8 in /opt/conda/lib/python3.10/site-packages (from sagemaker->cohere-sagemaker) (1.26.19)\n",
      "Requirement already satisfied: python-dateutil<3.0.0,>=2.1 in /opt/conda/lib/python3.10/site-packages (from botocore<1.36.0,>=1.35.16->boto3->cohere-sagemaker) (2.9.0)\n",
      "Requirement already satisfied: zipp>=0.5 in /opt/conda/lib/python3.10/site-packages (from importlib-metadata<7.0,>=1.4.0->sagemaker->cohere-sagemaker) (3.19.2)\n",
      "Requirement already satisfied: pydantic<3.0.0,>=1.7.0 in /opt/conda/lib/python3.10/site-packages (from sagemaker-core<2.0.0,>=1.0.0->sagemaker->cohere-sagemaker) (1.10.17)\n",
      "Requirement already satisfied: rich<14.0.0,>=13.0.0 in /opt/conda/lib/python3.10/site-packages (from sagemaker-core<2.0.0,>=1.0.0->sagemaker->cohere-sagemaker) (13.7.1)\n",
      "Requirement already satisfied: mock<5.0,>4.0 in /opt/conda/lib/python3.10/site-packages (from sagemaker-core<2.0.0,>=1.0.0->sagemaker->cohere-sagemaker) (4.0.3)\n",
      "Requirement already satisfied: pyrsistent!=0.17.0,!=0.17.1,!=0.17.2,>=0.14.0 in /opt/conda/lib/python3.10/site-packages (from jsonschema->sagemaker->cohere-sagemaker) (0.20.0)\n",
      "Requirement already satisfied: charset-normalizer<4,>=2 in /opt/conda/lib/python3.10/site-packages (from requests->sagemaker->cohere-sagemaker) (3.3.2)\n",
      "Requirement already satisfied: idna<4,>=2.5 in /opt/conda/lib/python3.10/site-packages (from requests->sagemaker->cohere-sagemaker) (3.7)\n",
      "Requirement already satisfied: certifi>=2017.4.17 in /opt/conda/lib/python3.10/site-packages (from requests->sagemaker->cohere-sagemaker) (2024.7.4)\n",
      "Requirement already satisfied: six in /opt/conda/lib/python3.10/site-packages (from google-pasta->sagemaker->cohere-sagemaker) (1.16.0)\n",
      "Requirement already satisfied: pytz>=2020.1 in /opt/conda/lib/python3.10/site-packages (from pandas->sagemaker->cohere-sagemaker) (2023.3)\n",
      "Requirement already satisfied: tzdata>=2022.1 in /opt/conda/lib/python3.10/site-packages (from pandas->sagemaker->cohere-sagemaker) (2024.1)\n",
      "Requirement already satisfied: ppft>=1.7.6.8 in /opt/conda/lib/python3.10/site-packages (from pathos->sagemaker->cohere-sagemaker) (1.7.6.8)\n",
      "Requirement already satisfied: dill>=0.3.8 in /opt/conda/lib/python3.10/site-packages (from pathos->sagemaker->cohere-sagemaker) (0.3.8)\n",
      "Requirement already satisfied: pox>=0.3.4 in /opt/conda/lib/python3.10/site-packages (from pathos->sagemaker->cohere-sagemaker) (0.3.4)\n",
      "Requirement already satisfied: multiprocess>=0.70.16 in /opt/conda/lib/python3.10/site-packages (from pathos->sagemaker->cohere-sagemaker) (0.70.16)\n",
      "Requirement already satisfied: typing-extensions>=4.2.0 in /opt/conda/lib/python3.10/site-packages (from pydantic<3.0.0,>=1.7.0->sagemaker-core<2.0.0,>=1.0.0->sagemaker->cohere-sagemaker) (4.12.2)\n",
      "Requirement already satisfied: markdown-it-py>=2.2.0 in /opt/conda/lib/python3.10/site-packages (from rich<14.0.0,>=13.0.0->sagemaker-core<2.0.0,>=1.0.0->sagemaker->cohere-sagemaker) (3.0.0)\n",
      "Requirement already satisfied: pygments<3.0.0,>=2.13.0 in /opt/conda/lib/python3.10/site-packages (from rich<14.0.0,>=13.0.0->sagemaker-core<2.0.0,>=1.0.0->sagemaker->cohere-sagemaker) (2.18.0)\n",
      "Requirement already satisfied: mdurl~=0.1 in /opt/conda/lib/python3.10/site-packages (from markdown-it-py>=2.2.0->rich<14.0.0,>=13.0.0->sagemaker-core<2.0.0,>=1.0.0->sagemaker->cohere-sagemaker) (0.1.2)\n",
      "Building wheels for collected packages: cohere-sagemaker\n",
      "  Building wheel for cohere-sagemaker (setup.py) ... \u001b[?25ldone\n",
      "\u001b[?25h  Created wheel for cohere-sagemaker: filename=cohere_sagemaker-0.8.1-cp310-cp310-linux_x86_64.whl size=11556 sha256=88e8d7dfd9aeee19a3d2a416243c7dac1b73cb9445833651e62405418a48ce11\n",
      "  Stored in directory: /home/sagemaker-user/.cache/pip/wheels/c1/c0/02/024dcf45e6a84e1456d89511b4c2a5200c39c9da787163612b\n",
      "Successfully built cohere-sagemaker\n",
      "Installing collected packages: cohere-sagemaker\n",
      "Successfully installed cohere-sagemaker-0.8.1\n",
      "\u001b[31mERROR: pip's dependency resolver does not currently take into account all the packages that are installed. This behaviour is the source of the following dependency conflicts.\n",
      "autovizwidget 0.21.0 requires pandas<2.0.0,>=0.20.1, but you have pandas 2.1.4 which is incompatible.\n",
      "hdijupyterutils 0.21.0 requires pandas<2.0.0,>=0.17.1, but you have pandas 2.1.4 which is incompatible.\n",
      "sparkmagic 0.21.0 requires pandas<2.0.0,>=0.17.1, but you have pandas 2.1.4 which is incompatible.\u001b[0m\u001b[31m\n",
      "\u001b[0m\u001b[31mERROR: pip's dependency resolver does not currently take into account all the packages that are installed. This behaviour is the source of the following dependency conflicts.\n",
      "jupyter-ai-magics 2.20.0 requires langchain<0.3.0,>=0.1.0, but you have langchain 0.0.148 which is incompatible.\n",
      "jupyter-scheduler 2.7.1 requires sqlalchemy<3,>=2.0, but you have sqlalchemy 1.4.54 which is incompatible.\n",
      "langchain-community 0.2.11 requires langchain<0.3.0,>=0.2.12, but you have langchain 0.0.148 which is incompatible.\u001b[0m\u001b[31m\n",
      "\u001b[0m"
     ]
    }
   ],
   "source": [
    "!pip install --upgrade sagemaker --quiet\n",
    "!pip install --upgrade cohere-sagemaker\n",
    "!pip install ipywidgets==7.0.0 --quiet\n",
    "!pip install langchain==0.0.148 --quiet\n",
    "!pip install faiss-cpu --quiet"
   ]
  },
  {
   "cell_type": "markdown",
   "id": "ffb37881-bc83-4cbd-a4d0-51f681a366b7",
   "metadata": {},
   "source": [
    "Practice from following link: https://sagemaker-examples.readthedocs.io/en/latest/introduction_to_amazon_algorithms/jumpstart-foundation-models/question_answering_retrieval_augmented_generation/question_answering_Cohere+langchain_jumpstart.html"
   ]
  },
  {
   "cell_type": "code",
   "execution_count": 3,
   "id": "288f8e1f-123a-4ff7-b7a1-f248f326594f",
   "metadata": {},
   "outputs": [],
   "source": [
    "import time\n",
    "import sagemaker, boto3, json\n",
    "from cohere_sagemaker import Client\n",
    "from sagemaker.session import Session\n",
    "from sagemaker.model import Model\n",
    "from sagemaker import image_uris, model_uris, script_uris, hyperparameters\n",
    "from sagemaker.predictor import Predictor\n",
    "from sagemaker.utils import name_from_base\n",
    "from typing import Any, Dict, List, Optional\n",
    "from langchain.embeddings import SagemakerEndpointEmbeddings\n",
    "from langchain.llms.sagemaker_endpoint import ContentHandlerBase\n",
    "\n",
    "sagemaker_session = Session()\n",
    "aws_role = sagemaker_session.get_caller_identity_arn()\n",
    "aws_region = boto3.Session().region_name\n",
    "sess = sagemaker.Session()\n",
    "model_version = \"*\""
   ]
  },
  {
   "cell_type": "code",
   "execution_count": 6,
   "id": "bc5ef79a-0952-49cb-abd5-7abd9587ecbe",
   "metadata": {},
   "outputs": [],
   "source": [
    "cohere_package = \"cohere-command-light-v16-56b4490da1833658b6c7d3a1f5f5bd1c\"\n",
    "\n",
    "# Mapping for Model Packages\n",
    "model_package_map = {\n",
    "    \"eu-west-1\": f\"arn:aws:sagemaker:eu-west-1:985815980388:model-package/{cohere_package}\",\n",
    "    \"eu-west-2\": f\"arn:aws:sagemaker:eu-west-2:856760150666:model-package/{cohere_package}\",\n",
    "    \"eu-west-3\": f\"arn:aws:sagemaker:eu-west-3:843114510376:model-package/{cohere_package}\",\n",
    "    \"eu-north-1\": f\"arn:aws:sagemaker:eu-north-1:136758871317:model-package/{cohere_package}\",\n",
    "}\n",
    "\n",
    "region = boto3.Session().region_name\n",
    "if region not in model_package_map.keys():\n",
    "    raise Exception(f\"Current boto3 session region {region} is not supported.\")\n",
    "\n",
    "model_package_arn = model_package_map[region]"
   ]
  },
  {
   "cell_type": "code",
   "execution_count": 7,
   "id": "4aac600e-0e83-4d64-93a4-315d0a5e2674",
   "metadata": {},
   "outputs": [
    {
     "data": {
      "text/plain": [
       "'arn:aws:sagemaker:eu-north-1:136758871317:model-package/cohere-command-light-v16-56b4490da1833658b6c7d3a1f5f5bd1c'"
      ]
     },
     "execution_count": 7,
     "metadata": {},
     "output_type": "execute_result"
    }
   ],
   "source": [
    "model_package_arn"
   ]
  },
  {
   "cell_type": "code",
   "execution_count": 9,
   "id": "8042d82f-f4d8-49c7-9ae2-d37c6ac7ac56",
   "metadata": {
    "scrolled": true
   },
   "outputs": [
    {
     "ename": "ClientError",
     "evalue": "An error occurred (ValidationException) when calling the CreateModel operation: Caller is not subscribed to the marketplace offering.",
     "output_type": "error",
     "traceback": [
      "\u001b[0;31m---------------------------------------------------------------------------\u001b[0m",
      "\u001b[0;31mClientError\u001b[0m                               Traceback (most recent call last)",
      "Cell \u001b[0;32mIn[9], line 2\u001b[0m\n\u001b[1;32m      1\u001b[0m co \u001b[38;5;241m=\u001b[39m Client(region_name\u001b[38;5;241m=\u001b[39mregion)\n\u001b[0;32m----> 2\u001b[0m \u001b[43mco\u001b[49m\u001b[38;5;241;43m.\u001b[39;49m\u001b[43mcreate_endpoint\u001b[49m\u001b[43m(\u001b[49m\u001b[43marn\u001b[49m\u001b[38;5;241;43m=\u001b[39;49m\u001b[43mmodel_package_arn\u001b[49m\u001b[43m,\u001b[49m\u001b[43m \u001b[49m\u001b[43mendpoint_name\u001b[49m\u001b[38;5;241;43m=\u001b[39;49m\u001b[38;5;124;43m\"\u001b[39;49m\u001b[38;5;124;43mcohere-command-light\u001b[39;49m\u001b[38;5;124;43m\"\u001b[39;49m\u001b[43m,\u001b[49m\u001b[43m \u001b[49m\u001b[43minstance_type\u001b[49m\u001b[38;5;241;43m=\u001b[39;49m\u001b[38;5;124;43m\"\u001b[39;49m\u001b[38;5;124;43mml.t3.medium\u001b[39;49m\u001b[38;5;124;43m\"\u001b[39;49m\u001b[43m,\u001b[49m\u001b[43m \u001b[49m\u001b[43mn_instances\u001b[49m\u001b[38;5;241;43m=\u001b[39;49m\u001b[38;5;241;43m1\u001b[39;49m\u001b[43m)\u001b[49m\n\u001b[1;32m      4\u001b[0m \u001b[38;5;66;03m# If the endpoint is already created, you just need to connect to it\u001b[39;00m\n\u001b[1;32m      5\u001b[0m \u001b[38;5;66;03m# co.connect_to_endpoint(endpoint_name=\"cohere-command-light\")\u001b[39;00m\n",
      "File \u001b[0;32m/opt/conda/lib/python3.10/site-packages/cohere_sagemaker/client.py:181\u001b[0m, in \u001b[0;36mClient.create_endpoint\u001b[0;34m(self, arn, endpoint_name, s3_models_dir, instance_type, n_instances, recreate, role)\u001b[0m\n\u001b[1;32m    175\u001b[0m validation_params \u001b[38;5;241m=\u001b[39m \u001b[38;5;28mdict\u001b[39m(\n\u001b[1;32m    176\u001b[0m     model_data_download_timeout\u001b[38;5;241m=\u001b[39m\u001b[38;5;241m2400\u001b[39m,\n\u001b[1;32m    177\u001b[0m     container_startup_health_check_timeout\u001b[38;5;241m=\u001b[39m\u001b[38;5;241m2400\u001b[39m\n\u001b[1;32m    178\u001b[0m )\n\u001b[1;32m    180\u001b[0m \u001b[38;5;28;01mtry\u001b[39;00m:\n\u001b[0;32m--> 181\u001b[0m     \u001b[43mmodel\u001b[49m\u001b[38;5;241;43m.\u001b[39;49m\u001b[43mdeploy\u001b[49m\u001b[43m(\u001b[49m\n\u001b[1;32m    182\u001b[0m \u001b[43m        \u001b[49m\u001b[43mn_instances\u001b[49m\u001b[43m,\u001b[49m\n\u001b[1;32m    183\u001b[0m \u001b[43m        \u001b[49m\u001b[43minstance_type\u001b[49m\u001b[43m,\u001b[49m\n\u001b[1;32m    184\u001b[0m \u001b[43m        \u001b[49m\u001b[43mendpoint_name\u001b[49m\u001b[38;5;241;43m=\u001b[39;49m\u001b[43mendpoint_name\u001b[49m\u001b[43m,\u001b[49m\n\u001b[1;32m    185\u001b[0m \u001b[43m        \u001b[49m\u001b[38;5;241;43m*\u001b[39;49m\u001b[38;5;241;43m*\u001b[39;49m\u001b[43mvalidation_params\u001b[49m\n\u001b[1;32m    186\u001b[0m \u001b[43m    \u001b[49m\u001b[43m)\u001b[49m\n\u001b[1;32m    187\u001b[0m \u001b[38;5;28;01mexcept\u001b[39;00m ParamValidationError:\n\u001b[1;32m    188\u001b[0m     \u001b[38;5;66;03m# For at least some versions of python 3.6, SageMaker SDK does not support the validation_params\u001b[39;00m\n\u001b[1;32m    189\u001b[0m     model\u001b[38;5;241m.\u001b[39mdeploy(n_instances, instance_type, endpoint_name\u001b[38;5;241m=\u001b[39mendpoint_name)\n",
      "File \u001b[0;32m/opt/conda/lib/python3.10/site-packages/sagemaker/model.py:1695\u001b[0m, in \u001b[0;36mModel.deploy\u001b[0;34m(self, initial_instance_count, instance_type, serializer, deserializer, accelerator_type, endpoint_name, tags, kms_key, wait, data_capture_config, async_inference_config, serverless_inference_config, volume_size, model_data_download_timeout, container_startup_health_check_timeout, inference_recommendation_id, explainer_config, accept_eula, endpoint_logging, resources, endpoint_type, managed_instance_scaling, inference_component_name, routing_config, **kwargs)\u001b[0m\n\u001b[1;32m   1693\u001b[0m             predictor\u001b[38;5;241m.\u001b[39mdeserializer \u001b[38;5;241m=\u001b[39m deserializer\n\u001b[1;32m   1694\u001b[0m         \u001b[38;5;28;01mreturn\u001b[39;00m predictor\n\u001b[0;32m-> 1695\u001b[0m     \u001b[38;5;28;01mreturn\u001b[39;00m \u001b[38;5;28;01mNone\u001b[39;00m\n\u001b[1;32m   1697\u001b[0m \u001b[38;5;28;01melse\u001b[39;00m:  \u001b[38;5;66;03m# existing single model endpoint path\u001b[39;00m\n\u001b[1;32m   1698\u001b[0m     \u001b[38;5;28mself\u001b[39m\u001b[38;5;241m.\u001b[39m_create_sagemaker_model(\n\u001b[1;32m   1699\u001b[0m         instance_type\u001b[38;5;241m=\u001b[39minstance_type,\n\u001b[1;32m   1700\u001b[0m         accelerator_type\u001b[38;5;241m=\u001b[39maccelerator_type,\n\u001b[0;32m   (...)\u001b[0m\n\u001b[1;32m   1704\u001b[0m         model_reference_arn\u001b[38;5;241m=\u001b[39mmodel_reference_arn,\n\u001b[1;32m   1705\u001b[0m     )\n",
      "File \u001b[0;32m/opt/conda/lib/python3.10/site-packages/sagemaker/model.py:2260\u001b[0m, in \u001b[0;36m_create_sagemaker_model\u001b[0;34m(self, *args, **kwargs)\u001b[0m\n\u001b[1;32m   2258\u001b[0m     \u001b[38;5;28mself\u001b[39m\u001b[38;5;241m.\u001b[39mmodel_package_arn \u001b[38;5;241m=\u001b[39m model_package_desc[\u001b[38;5;124m\"\u001b[39m\u001b[38;5;124mModelPackageArn\u001b[39m\u001b[38;5;124m\"\u001b[39m]\n\u001b[1;32m   2259\u001b[0m \u001b[38;5;28;01mif\u001b[39;00m re\u001b[38;5;241m.\u001b[39mmatch(MODEL_PACKAGE_VERSIONED_ARN_PATTERN, \u001b[38;5;28mself\u001b[39m\u001b[38;5;241m.\u001b[39mmodel_package_arn):\n\u001b[0;32m-> 2260\u001b[0m     approval_status \u001b[38;5;241m=\u001b[39m model_package_desc\u001b[38;5;241m.\u001b[39mget(\u001b[38;5;124m\"\u001b[39m\u001b[38;5;124mModelApprovalStatus\u001b[39m\u001b[38;5;124m\"\u001b[39m, \u001b[38;5;124m\"\u001b[39m\u001b[38;5;124m\"\u001b[39m)\n\u001b[1;32m   2261\u001b[0m     \u001b[38;5;28;01mif\u001b[39;00m approval_status \u001b[38;5;241m!=\u001b[39m ModelApprovalStatusEnum\u001b[38;5;241m.\u001b[39mAPPROVED:\n\u001b[1;32m   2262\u001b[0m         \u001b[38;5;28mself\u001b[39m\u001b[38;5;241m.\u001b[39mupdate_approval_status(approval_status\u001b[38;5;241m=\u001b[39mModelApprovalStatusEnum\u001b[38;5;241m.\u001b[39mAPPROVED)\n",
      "File \u001b[0;32m/opt/conda/lib/python3.10/site-packages/sagemaker/session.py:3976\u001b[0m, in \u001b[0;36mcreate_model\u001b[0;34m(self, name, role, container_defs, vpc_config, enable_network_isolation, primary_container, tags)\u001b[0m\n\u001b[1;32m   3945\u001b[0m \u001b[38;5;28;01mdef\u001b[39;00m \u001b[38;5;21mcreate_model\u001b[39m(\n\u001b[1;32m   3946\u001b[0m     \u001b[38;5;28mself\u001b[39m,\n\u001b[1;32m   3947\u001b[0m     name,\n\u001b[0;32m   (...)\u001b[0m\n\u001b[1;32m   3953\u001b[0m     tags\u001b[38;5;241m=\u001b[39m\u001b[38;5;28;01mNone\u001b[39;00m,\n\u001b[1;32m   3954\u001b[0m ):\n\u001b[1;32m   3955\u001b[0m \u001b[38;5;250m    \u001b[39m\u001b[38;5;124;03m\"\"\"Create an Amazon SageMaker ``Model``.\u001b[39;00m\n\u001b[1;32m   3956\u001b[0m \n\u001b[1;32m   3957\u001b[0m \u001b[38;5;124;03m    Specify the S3 location of the model artifacts and Docker image containing\u001b[39;00m\n\u001b[1;32m   3958\u001b[0m \u001b[38;5;124;03m    the inference code. Amazon SageMaker uses this information to deploy the\u001b[39;00m\n\u001b[1;32m   3959\u001b[0m \u001b[38;5;124;03m    model in Amazon SageMaker. This method can also be used to create a Model for an Inference\u001b[39;00m\n\u001b[1;32m   3960\u001b[0m \u001b[38;5;124;03m    Pipeline if you pass the list of container definitions through the containers parameter.\u001b[39;00m\n\u001b[1;32m   3961\u001b[0m \n\u001b[1;32m   3962\u001b[0m \u001b[38;5;124;03m    Args:\u001b[39;00m\n\u001b[1;32m   3963\u001b[0m \u001b[38;5;124;03m        name (str): Name of the Amazon SageMaker ``Model`` to create.\u001b[39;00m\n\u001b[1;32m   3964\u001b[0m \u001b[38;5;124;03m        role (str): An AWS IAM role (either name or full ARN). The Amazon SageMaker training\u001b[39;00m\n\u001b[1;32m   3965\u001b[0m \u001b[38;5;124;03m            jobs and APIs that create Amazon SageMaker endpoints use this role to access\u001b[39;00m\n\u001b[1;32m   3966\u001b[0m \u001b[38;5;124;03m            training data and model artifacts. You must grant sufficient permissions to this\u001b[39;00m\n\u001b[1;32m   3967\u001b[0m \u001b[38;5;124;03m            role.\u001b[39;00m\n\u001b[1;32m   3968\u001b[0m \u001b[38;5;124;03m        container_defs (list[dict[str, str]] or [dict[str, str]]): A single container\u001b[39;00m\n\u001b[1;32m   3969\u001b[0m \u001b[38;5;124;03m            definition or a list of container definitions which will be invoked sequentially\u001b[39;00m\n\u001b[1;32m   3970\u001b[0m \u001b[38;5;124;03m            while performing the prediction. If the list contains only one container, then\u001b[39;00m\n\u001b[1;32m   3971\u001b[0m \u001b[38;5;124;03m            it'll be passed to SageMaker Hosting as the ``PrimaryContainer`` and otherwise,\u001b[39;00m\n\u001b[1;32m   3972\u001b[0m \u001b[38;5;124;03m            it'll be passed as ``Containers``.You can also specify the  return value of\u001b[39;00m\n\u001b[1;32m   3973\u001b[0m \u001b[38;5;124;03m            ``sagemaker.get_container_def()`` or ``sagemaker.pipeline_container_def()``,\u001b[39;00m\n\u001b[1;32m   3974\u001b[0m \u001b[38;5;124;03m            which will used to create more advanced container configurations, including model\u001b[39;00m\n\u001b[1;32m   3975\u001b[0m \u001b[38;5;124;03m            containers which need artifacts from S3.\u001b[39;00m\n\u001b[0;32m-> 3976\u001b[0m \u001b[38;5;124;03m        vpc_config (dict[str, list[str]]): The VpcConfig set on the model (default: None)\u001b[39;00m\n\u001b[1;32m   3977\u001b[0m \u001b[38;5;124;03m            * 'Subnets' (list[str]): List of subnet ids.\u001b[39;00m\n\u001b[1;32m   3978\u001b[0m \u001b[38;5;124;03m            * 'SecurityGroupIds' (list[str]): List of security group ids.\u001b[39;00m\n\u001b[1;32m   3979\u001b[0m \u001b[38;5;124;03m        enable_network_isolation (bool): Whether the model requires network isolation or not.\u001b[39;00m\n\u001b[1;32m   3980\u001b[0m \u001b[38;5;124;03m        primary_container (str or dict[str, str]): Docker image which defines the inference\u001b[39;00m\n\u001b[1;32m   3981\u001b[0m \u001b[38;5;124;03m            code. You can also specify the return value of ``sagemaker.container_def()``,\u001b[39;00m\n\u001b[1;32m   3982\u001b[0m \u001b[38;5;124;03m            which is used to create more advanced container configurations, including model\u001b[39;00m\n\u001b[1;32m   3983\u001b[0m \u001b[38;5;124;03m            containers which need artifacts from S3. This field is deprecated, please use\u001b[39;00m\n\u001b[1;32m   3984\u001b[0m \u001b[38;5;124;03m            container_defs instead.\u001b[39;00m\n\u001b[1;32m   3985\u001b[0m \u001b[38;5;124;03m        tags(Optional[Tags]): Optional. The list of tags to add to the model.\u001b[39;00m\n\u001b[1;32m   3986\u001b[0m \n\u001b[1;32m   3987\u001b[0m \u001b[38;5;124;03m    Example:\u001b[39;00m\n\u001b[1;32m   3988\u001b[0m \u001b[38;5;124;03m        >>> tags = [{'Key': 'tagname', 'Value': 'tagvalue'}]\u001b[39;00m\n\u001b[1;32m   3989\u001b[0m \u001b[38;5;124;03m        For more information about tags, see https://boto3.amazonaws.com/v1/documentation\\\u001b[39;00m\n\u001b[1;32m   3990\u001b[0m \u001b[38;5;124;03m        /api/latest/reference/services/sagemaker.html#SageMaker.Client.add_tags\u001b[39;00m\n\u001b[1;32m   3991\u001b[0m \n\u001b[1;32m   3992\u001b[0m \u001b[38;5;124;03m    Returns:\u001b[39;00m\n\u001b[1;32m   3993\u001b[0m \u001b[38;5;124;03m        str: Name of the Amazon SageMaker ``Model`` created.\u001b[39;00m\n\u001b[1;32m   3994\u001b[0m \u001b[38;5;124;03m    \"\"\"\u001b[39;00m\n\u001b[1;32m   3995\u001b[0m     tags \u001b[38;5;241m=\u001b[39m _append_project_tags(format_tags(tags))\n\u001b[1;32m   3996\u001b[0m     tags \u001b[38;5;241m=\u001b[39m \u001b[38;5;28mself\u001b[39m\u001b[38;5;241m.\u001b[39m_append_sagemaker_config_tags(tags, \u001b[38;5;124m\"\u001b[39m\u001b[38;5;132;01m{}\u001b[39;00m\u001b[38;5;124m.\u001b[39m\u001b[38;5;132;01m{}\u001b[39;00m\u001b[38;5;124m.\u001b[39m\u001b[38;5;132;01m{}\u001b[39;00m\u001b[38;5;124m\"\u001b[39m\u001b[38;5;241m.\u001b[39mformat(SAGEMAKER, MODEL, TAGS))\n",
      "File \u001b[0;32m/opt/conda/lib/python3.10/site-packages/sagemaker/session.py:6514\u001b[0m, in \u001b[0;36m_intercept_create_request\u001b[0;34m(self, request, create, func_name)\u001b[0m\n\u001b[1;32m   6509\u001b[0m     result_config\u001b[38;5;241m.\u001b[39mupdate(\n\u001b[1;32m   6510\u001b[0m         EncryptionConfiguration\u001b[38;5;241m=\u001b[39m\u001b[38;5;28mdict\u001b[39m(EncryptionOption\u001b[38;5;241m=\u001b[39m\u001b[38;5;124m\"\u001b[39m\u001b[38;5;124mSSE_KMS\u001b[39m\u001b[38;5;124m\"\u001b[39m, KmsKey\u001b[38;5;241m=\u001b[39mkms_key)\n\u001b[1;32m   6511\u001b[0m     )\n\u001b[1;32m   6512\u001b[0m kwargs\u001b[38;5;241m.\u001b[39mupdate(ResultConfiguration\u001b[38;5;241m=\u001b[39mresult_config)\n\u001b[0;32m-> 6514\u001b[0m \u001b[38;5;28;01mif\u001b[39;00m workgroup:\n\u001b[1;32m   6515\u001b[0m     kwargs\u001b[38;5;241m.\u001b[39mupdate(WorkGroup\u001b[38;5;241m=\u001b[39mworkgroup)\n\u001b[1;32m   6517\u001b[0m athena_client \u001b[38;5;241m=\u001b[39m \u001b[38;5;28mself\u001b[39m\u001b[38;5;241m.\u001b[39mboto_session\u001b[38;5;241m.\u001b[39mclient(\u001b[38;5;124m\"\u001b[39m\u001b[38;5;124mathena\u001b[39m\u001b[38;5;124m\"\u001b[39m, region_name\u001b[38;5;241m=\u001b[39m\u001b[38;5;28mself\u001b[39m\u001b[38;5;241m.\u001b[39mboto_region_name)\n",
      "File \u001b[0;32m/opt/conda/lib/python3.10/site-packages/sagemaker/session.py:3964\u001b[0m, in \u001b[0;36msubmit\u001b[0;34m(request)\u001b[0m\n\u001b[1;32m   3945\u001b[0m \u001b[38;5;28;01mdef\u001b[39;00m \u001b[38;5;21mcreate_model\u001b[39m(\n\u001b[1;32m   3946\u001b[0m     \u001b[38;5;28mself\u001b[39m,\n\u001b[1;32m   3947\u001b[0m     name,\n\u001b[0;32m   (...)\u001b[0m\n\u001b[1;32m   3953\u001b[0m     tags\u001b[38;5;241m=\u001b[39m\u001b[38;5;28;01mNone\u001b[39;00m,\n\u001b[1;32m   3954\u001b[0m ):\n\u001b[1;32m   3955\u001b[0m \u001b[38;5;250m    \u001b[39m\u001b[38;5;124;03m\"\"\"Create an Amazon SageMaker ``Model``.\u001b[39;00m\n\u001b[1;32m   3956\u001b[0m \n\u001b[1;32m   3957\u001b[0m \u001b[38;5;124;03m    Specify the S3 location of the model artifacts and Docker image containing\u001b[39;00m\n\u001b[1;32m   3958\u001b[0m \u001b[38;5;124;03m    the inference code. Amazon SageMaker uses this information to deploy the\u001b[39;00m\n\u001b[1;32m   3959\u001b[0m \u001b[38;5;124;03m    model in Amazon SageMaker. This method can also be used to create a Model for an Inference\u001b[39;00m\n\u001b[1;32m   3960\u001b[0m \u001b[38;5;124;03m    Pipeline if you pass the list of container definitions through the containers parameter.\u001b[39;00m\n\u001b[1;32m   3961\u001b[0m \n\u001b[1;32m   3962\u001b[0m \u001b[38;5;124;03m    Args:\u001b[39;00m\n\u001b[1;32m   3963\u001b[0m \u001b[38;5;124;03m        name (str): Name of the Amazon SageMaker ``Model`` to create.\u001b[39;00m\n\u001b[0;32m-> 3964\u001b[0m \u001b[38;5;124;03m        role (str): An AWS IAM role (either name or full ARN). The Amazon SageMaker training\u001b[39;00m\n\u001b[1;32m   3965\u001b[0m \u001b[38;5;124;03m            jobs and APIs that create Amazon SageMaker endpoints use this role to access\u001b[39;00m\n\u001b[1;32m   3966\u001b[0m \u001b[38;5;124;03m            training data and model artifacts. You must grant sufficient permissions to this\u001b[39;00m\n\u001b[1;32m   3967\u001b[0m \u001b[38;5;124;03m            role.\u001b[39;00m\n\u001b[1;32m   3968\u001b[0m \u001b[38;5;124;03m        container_defs (list[dict[str, str]] or [dict[str, str]]): A single container\u001b[39;00m\n\u001b[1;32m   3969\u001b[0m \u001b[38;5;124;03m            definition or a list of container definitions which will be invoked sequentially\u001b[39;00m\n\u001b[1;32m   3970\u001b[0m \u001b[38;5;124;03m            while performing the prediction. If the list contains only one container, then\u001b[39;00m\n\u001b[1;32m   3971\u001b[0m \u001b[38;5;124;03m            it'll be passed to SageMaker Hosting as the ``PrimaryContainer`` and otherwise,\u001b[39;00m\n\u001b[1;32m   3972\u001b[0m \u001b[38;5;124;03m            it'll be passed as ``Containers``.You can also specify the  return value of\u001b[39;00m\n\u001b[1;32m   3973\u001b[0m \u001b[38;5;124;03m            ``sagemaker.get_container_def()`` or ``sagemaker.pipeline_container_def()``,\u001b[39;00m\n\u001b[1;32m   3974\u001b[0m \u001b[38;5;124;03m            which will used to create more advanced container configurations, including model\u001b[39;00m\n\u001b[1;32m   3975\u001b[0m \u001b[38;5;124;03m            containers which need artifacts from S3.\u001b[39;00m\n\u001b[1;32m   3976\u001b[0m \u001b[38;5;124;03m        vpc_config (dict[str, list[str]]): The VpcConfig set on the model (default: None)\u001b[39;00m\n\u001b[1;32m   3977\u001b[0m \u001b[38;5;124;03m            * 'Subnets' (list[str]): List of subnet ids.\u001b[39;00m\n\u001b[1;32m   3978\u001b[0m \u001b[38;5;124;03m            * 'SecurityGroupIds' (list[str]): List of security group ids.\u001b[39;00m\n\u001b[1;32m   3979\u001b[0m \u001b[38;5;124;03m        enable_network_isolation (bool): Whether the model requires network isolation or not.\u001b[39;00m\n\u001b[1;32m   3980\u001b[0m \u001b[38;5;124;03m        primary_container (str or dict[str, str]): Docker image which defines the inference\u001b[39;00m\n\u001b[1;32m   3981\u001b[0m \u001b[38;5;124;03m            code. You can also specify the return value of ``sagemaker.container_def()``,\u001b[39;00m\n\u001b[1;32m   3982\u001b[0m \u001b[38;5;124;03m            which is used to create more advanced container configurations, including model\u001b[39;00m\n\u001b[1;32m   3983\u001b[0m \u001b[38;5;124;03m            containers which need artifacts from S3. This field is deprecated, please use\u001b[39;00m\n\u001b[1;32m   3984\u001b[0m \u001b[38;5;124;03m            container_defs instead.\u001b[39;00m\n\u001b[1;32m   3985\u001b[0m \u001b[38;5;124;03m        tags(Optional[Tags]): Optional. The list of tags to add to the model.\u001b[39;00m\n\u001b[1;32m   3986\u001b[0m \n\u001b[1;32m   3987\u001b[0m \u001b[38;5;124;03m    Example:\u001b[39;00m\n\u001b[1;32m   3988\u001b[0m \u001b[38;5;124;03m        >>> tags = [{'Key': 'tagname', 'Value': 'tagvalue'}]\u001b[39;00m\n\u001b[1;32m   3989\u001b[0m \u001b[38;5;124;03m        For more information about tags, see https://boto3.amazonaws.com/v1/documentation\\\u001b[39;00m\n\u001b[1;32m   3990\u001b[0m \u001b[38;5;124;03m        /api/latest/reference/services/sagemaker.html#SageMaker.Client.add_tags\u001b[39;00m\n\u001b[1;32m   3991\u001b[0m \n\u001b[1;32m   3992\u001b[0m \u001b[38;5;124;03m    Returns:\u001b[39;00m\n\u001b[1;32m   3993\u001b[0m \u001b[38;5;124;03m        str: Name of the Amazon SageMaker ``Model`` created.\u001b[39;00m\n\u001b[1;32m   3994\u001b[0m \u001b[38;5;124;03m    \"\"\"\u001b[39;00m\n\u001b[1;32m   3995\u001b[0m     tags \u001b[38;5;241m=\u001b[39m _append_project_tags(format_tags(tags))\n\u001b[1;32m   3996\u001b[0m     tags \u001b[38;5;241m=\u001b[39m \u001b[38;5;28mself\u001b[39m\u001b[38;5;241m.\u001b[39m_append_sagemaker_config_tags(tags, \u001b[38;5;124m\"\u001b[39m\u001b[38;5;132;01m{}\u001b[39;00m\u001b[38;5;124m.\u001b[39m\u001b[38;5;132;01m{}\u001b[39;00m\u001b[38;5;124m.\u001b[39m\u001b[38;5;132;01m{}\u001b[39;00m\u001b[38;5;124m\"\u001b[39m\u001b[38;5;241m.\u001b[39mformat(SAGEMAKER, MODEL, TAGS))\n",
      "File \u001b[0;32m/opt/conda/lib/python3.10/site-packages/botocore/client.py:565\u001b[0m, in \u001b[0;36m_api_call\u001b[0;34m(self, *args, **kwargs)\u001b[0m\n\u001b[1;32m    560\u001b[0m \u001b[38;5;28;01mdef\u001b[39;00m \u001b[38;5;21m_api_call\u001b[39m(\u001b[38;5;28mself\u001b[39m, \u001b[38;5;241m*\u001b[39margs, \u001b[38;5;241m*\u001b[39m\u001b[38;5;241m*\u001b[39mkwargs):\n\u001b[1;32m    561\u001b[0m     \u001b[38;5;66;03m# We're accepting *args so that we can give a more helpful\u001b[39;00m\n\u001b[1;32m    562\u001b[0m     \u001b[38;5;66;03m# error message than TypeError: _api_call takes exactly\u001b[39;00m\n\u001b[1;32m    563\u001b[0m     \u001b[38;5;66;03m# 1 argument.\u001b[39;00m\n\u001b[1;32m    564\u001b[0m     \u001b[38;5;28;01mif\u001b[39;00m args:\n\u001b[0;32m--> 565\u001b[0m         \u001b[38;5;28;01mraise\u001b[39;00m \u001b[38;5;167;01mTypeError\u001b[39;00m(\n\u001b[1;32m    566\u001b[0m             \u001b[38;5;124mf\u001b[39m\u001b[38;5;124m\"\u001b[39m\u001b[38;5;132;01m{\u001b[39;00mpy_operation_name\u001b[38;5;132;01m}\u001b[39;00m\u001b[38;5;124m() only accepts keyword arguments.\u001b[39m\u001b[38;5;124m\"\u001b[39m\n\u001b[1;32m    567\u001b[0m         )\n\u001b[1;32m    568\u001b[0m     \u001b[38;5;66;03m# The \"self\" in this scope is referring to the BaseClient.\u001b[39;00m\n\u001b[1;32m    569\u001b[0m     \u001b[38;5;28;01mreturn\u001b[39;00m \u001b[38;5;28mself\u001b[39m\u001b[38;5;241m.\u001b[39m_make_api_call(operation_name, kwargs)\n",
      "File \u001b[0;32m/opt/conda/lib/python3.10/site-packages/botocore/client.py:1021\u001b[0m, in \u001b[0;36m_make_api_call\u001b[0;34m(self, operation_name, api_params)\u001b[0m\n\u001b[1;32m   1017\u001b[0m \u001b[38;5;28;01mif\u001b[39;00m http\u001b[38;5;241m.\u001b[39mstatus_code \u001b[38;5;241m>\u001b[39m\u001b[38;5;241m=\u001b[39m \u001b[38;5;241m300\u001b[39m:\n\u001b[1;32m   1018\u001b[0m     error_info \u001b[38;5;241m=\u001b[39m parsed_response\u001b[38;5;241m.\u001b[39mget(\u001b[38;5;124m\"\u001b[39m\u001b[38;5;124mError\u001b[39m\u001b[38;5;124m\"\u001b[39m, {})\n\u001b[1;32m   1019\u001b[0m     error_code \u001b[38;5;241m=\u001b[39m error_info\u001b[38;5;241m.\u001b[39mget(\u001b[38;5;124m\"\u001b[39m\u001b[38;5;124mQueryErrorCode\u001b[39m\u001b[38;5;124m\"\u001b[39m) \u001b[38;5;129;01mor\u001b[39;00m error_info\u001b[38;5;241m.\u001b[39mget(\n\u001b[1;32m   1020\u001b[0m         \u001b[38;5;124m\"\u001b[39m\u001b[38;5;124mCode\u001b[39m\u001b[38;5;124m\"\u001b[39m\n\u001b[0;32m-> 1021\u001b[0m     )\n\u001b[1;32m   1022\u001b[0m     error_class \u001b[38;5;241m=\u001b[39m \u001b[38;5;28mself\u001b[39m\u001b[38;5;241m.\u001b[39mexceptions\u001b[38;5;241m.\u001b[39mfrom_code(error_code)\n\u001b[1;32m   1023\u001b[0m     \u001b[38;5;28;01mraise\u001b[39;00m error_class(parsed_response, operation_name)\n",
      "\u001b[0;31mClientError\u001b[0m: An error occurred (ValidationException) when calling the CreateModel operation: Caller is not subscribed to the marketplace offering."
     ]
    }
   ],
   "source": [
    "co = Client(region_name=region)\n",
    "co.create_endpoint(arn=model_package_arn, endpoint_name=\"cohere-command-light\", instance_type=\"ml.t3.medium\", n_instances=1)\n",
    "\n",
    "# If the endpoint is already created, you just need to connect to it\n",
    "# co.connect_to_endpoint(endpoint_name=\"cohere-command-light\")"
   ]
  },
  {
   "cell_type": "code",
   "execution_count": null,
   "id": "95aabe95-fef6-4eb7-98ef-a973893080e5",
   "metadata": {},
   "outputs": [],
   "source": []
  }
 ],
 "metadata": {
  "kernelspec": {
   "display_name": "Python 3 (ipykernel)",
   "language": "python",
   "name": "python3"
  },
  "language_info": {
   "codemirror_mode": {
    "name": "ipython",
    "version": 3
   },
   "file_extension": ".py",
   "mimetype": "text/x-python",
   "name": "python",
   "nbconvert_exporter": "python",
   "pygments_lexer": "ipython3",
   "version": "3.10.14"
  }
 },
 "nbformat": 4,
 "nbformat_minor": 5
}
