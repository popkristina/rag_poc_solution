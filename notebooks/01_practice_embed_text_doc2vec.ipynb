{
 "cells": [
  {
   "cell_type": "markdown",
   "metadata": {},
   "source": [
    "## Test Turning Documents to Embeddings"
   ]
  },
  {
   "cell_type": "markdown",
   "metadata": {},
   "source": [
    "#### The purpose of this notebook is to do a dummy test of how embeddings will turn out without prior processing of the data and just feeding it to a doc2vec model as is.\n",
    "\n",
    "#### Test with cosine similarity function for sanity check.\n",
    "\n",
    "#### Note: Notebook was run locally and will not work in SageMaker as no doc2vec was installed."
   ]
  },
  {
   "cell_type": "code",
   "execution_count": 7,
   "metadata": {},
   "outputs": [],
   "source": [
    "import pandas as pd\n",
    "import numpy as np\n",
    "import os\n",
    "#from gensim.models import Doc2Vec\n",
    "#import gensim\n",
    "#from gensim.models.doc2vec import TaggedDocument\n",
    "import re\n",
    "import glob\n",
    "import json"
   ]
  },
  {
   "cell_type": "code",
   "execution_count": 2,
   "metadata": {},
   "outputs": [],
   "source": [
    "# Specify the path to the folder containing the .md files\n",
    "folder_path = '../data/raw'\n",
    "\n",
    "# Use glob to find all .md files in the specified folder\n",
    "md_files = glob.glob(os.path.join(folder_path, '*.md'))"
   ]
  },
  {
   "cell_type": "code",
   "execution_count": 3,
   "metadata": {},
   "outputs": [
    {
     "name": "stdout",
     "output_type": "stream",
     "text": [
      "                                                    id  \\\n",
      "0                            amazon-sagemaker-toolkits   \n",
      "1                    asff-resourcedetails-awssagemaker   \n",
      "2                automating-sagemaker-with-eventbridge   \n",
      "3    aws-properties-events-rule-sagemakerpipelinepa...   \n",
      "4    aws-properties-events-rule-sagemakerpipelinepa...   \n",
      "..                                                 ...   \n",
      "331                              sagemaker-rl-workflow   \n",
      "332                                    sagemaker-roles   \n",
      "333              services-that-can-integrate-sagemaker   \n",
      "334     train-evaluate-models-using-sagemaker-notebook   \n",
      "335                         use-sagemaker-edge-manager   \n",
      "\n",
      "                                                  text  \n",
      "0    # Using the SageMaker Training and Inference T...  \n",
      "1    # AwsSageMaker<a name=\"asff-resourcedetails-aw...  \n",
      "2    # Automating Amazon SageMaker with Amazon Even...  \n",
      "3    # AWS::Events::Rule SageMakerPipelineParameter...  \n",
      "4    # AWS::Events::Rule SageMakerPipelineParameter...  \n",
      "..                                                 ...  \n",
      "331  # Sample RL Workflow Using Amazon SageMaker RL...  \n",
      "332  # SageMaker Roles<a name=\"sagemaker-roles\"></a...  \n",
      "333  # Amazon SageMaker and Application Auto Scalin...  \n",
      "334  # Train and Evaluate AWS DeepRacer Models Usin...  \n",
      "335  # Use Amazon SageMaker Edge Manager on Greengr...  \n",
      "\n",
      "[336 rows x 2 columns]\n"
     ]
    }
   ],
   "source": [
    "# Create an empty list to store the data\n",
    "data = []\n",
    "\n",
    "# Read the contents of each .md file and store in the list\n",
    "for file in md_files:\n",
    "    with open(file, 'r', encoding='utf-8') as f:\n",
    "        content = f.read()\n",
    "        # Get the file name without extension\n",
    "        doc_name = os.path.splitext(os.path.basename(file))[0]  \n",
    "        data.append({'id': doc_name, 'text': content})\n",
    "\n",
    "# Convert the list to a DataFrame\n",
    "df = pd.DataFrame(data)\n",
    "\n",
    "# Display the DataFrame\n",
    "print(df)"
   ]
  },
  {
   "cell_type": "code",
   "execution_count": 4,
   "metadata": {},
   "outputs": [
    {
     "data": {
      "text/html": [
       "<div>\n",
       "<style scoped>\n",
       "    .dataframe tbody tr th:only-of-type {\n",
       "        vertical-align: middle;\n",
       "    }\n",
       "\n",
       "    .dataframe tbody tr th {\n",
       "        vertical-align: top;\n",
       "    }\n",
       "\n",
       "    .dataframe thead th {\n",
       "        text-align: right;\n",
       "    }\n",
       "</style>\n",
       "<table border=\"1\" class=\"dataframe\">\n",
       "  <thead>\n",
       "    <tr style=\"text-align: right;\">\n",
       "      <th></th>\n",
       "      <th>id</th>\n",
       "      <th>text</th>\n",
       "    </tr>\n",
       "  </thead>\n",
       "  <tbody>\n",
       "    <tr>\n",
       "      <th>0</th>\n",
       "      <td>amazon-sagemaker-toolkits</td>\n",
       "      <td># Using the SageMaker Training and Inference T...</td>\n",
       "    </tr>\n",
       "    <tr>\n",
       "      <th>1</th>\n",
       "      <td>asff-resourcedetails-awssagemaker</td>\n",
       "      <td># AwsSageMaker&lt;a name=\"asff-resourcedetails-aw...</td>\n",
       "    </tr>\n",
       "    <tr>\n",
       "      <th>2</th>\n",
       "      <td>automating-sagemaker-with-eventbridge</td>\n",
       "      <td># Automating Amazon SageMaker with Amazon Even...</td>\n",
       "    </tr>\n",
       "    <tr>\n",
       "      <th>3</th>\n",
       "      <td>aws-properties-events-rule-sagemakerpipelinepa...</td>\n",
       "      <td># AWS::Events::Rule SageMakerPipelineParameter...</td>\n",
       "    </tr>\n",
       "    <tr>\n",
       "      <th>4</th>\n",
       "      <td>aws-properties-events-rule-sagemakerpipelinepa...</td>\n",
       "      <td># AWS::Events::Rule SageMakerPipelineParameter...</td>\n",
       "    </tr>\n",
       "  </tbody>\n",
       "</table>\n",
       "</div>"
      ],
      "text/plain": [
       "                                                  id  \\\n",
       "0                          amazon-sagemaker-toolkits   \n",
       "1                  asff-resourcedetails-awssagemaker   \n",
       "2              automating-sagemaker-with-eventbridge   \n",
       "3  aws-properties-events-rule-sagemakerpipelinepa...   \n",
       "4  aws-properties-events-rule-sagemakerpipelinepa...   \n",
       "\n",
       "                                                text  \n",
       "0  # Using the SageMaker Training and Inference T...  \n",
       "1  # AwsSageMaker<a name=\"asff-resourcedetails-aw...  \n",
       "2  # Automating Amazon SageMaker with Amazon Even...  \n",
       "3  # AWS::Events::Rule SageMakerPipelineParameter...  \n",
       "4  # AWS::Events::Rule SageMakerPipelineParameter...  "
      ]
     },
     "execution_count": 4,
     "metadata": {},
     "output_type": "execute_result"
    }
   ],
   "source": [
    "df.head()"
   ]
  },
  {
   "cell_type": "code",
   "execution_count": 5,
   "metadata": {},
   "outputs": [
    {
     "data": {
      "text/plain": [
       "'# Using the SageMaker Training and Inference Toolkits<a name=\"amazon-sagemaker-toolkits\"></a>\\n\\nThe [SageMaker Training](https://github.com/aws/sagemaker-training-toolkit) and [SageMaker Inference](https://github.com/aws/sagemaker-inference-toolkit) toolkits implement the functionality that you need to adapt your containers to run scripts, train algorithms, and deploy models on SageMaker\\\\. When installed, the library defines the following for users:\\n+ The locations for storing code and other resources\\\\. \\n+ The entry point that contains the code to run when the container is started\\\\. Your Dockerfile must copy the code that needs to be run into the location expected by a container that is compatible with SageMaker\\\\. \\n+ Other information that a container needs to manage deployments for training and inference\\\\. \\n\\n## SageMaker Toolkits Containers Structure<a name=\"sagemaker-toolkits-structure\"></a>\\n\\nWhen SageMaker trains a model, it creates the following file folder structure in the container\\'s `/opt/ml` directory\\\\.\\n\\n```\\n/opt/ml\\n├── input\\n│   ├── config\\n│   │   ├── hyperparameters.json\\n│   │   └── resourceConfig.json\\n│   └── data\\n│       └── <channel_name>\\n│           └── <input data>\\n├── model\\n│\\n├── code\\n│\\n├── output\\n│\\n└── failure\\n```\\n\\nWhen you run a model *training* job, the SageMaker container uses the `/opt/ml/input/` directory, which contains the JSON files that configure the hyperparameters for the algorithm and the network layout used for distributed training\\\\. The `/opt/ml/input/` directory also contains files that specify the channels through which SageMaker accesses the data, which is stored in Amazon Simple Storage Service \\\\(Amazon S3\\\\)\\\\. The SageMaker containers library places the scripts that the container will run in the `/opt/ml/code/` directory\\\\. Your script should write the model generated by your algorithm to the `/opt/ml/model/` directory\\\\. For more information, see [Use Your Own Training Algorithms](your-algorithms-training-algo.md)\\\\.\\n\\nWhen you *host* a trained model on SageMaker to make inferences, you deploy the model to an HTTP endpoint\\\\. The model makes real\\\\-time predictions in response to inference requests\\\\. The container must contain a serving stack to process these requests\\\\.\\n\\nIn a hosting or batch transform container, the model files are located in the same folder to which they were written during training\\\\.\\n\\n```\\n/opt/ml/model\\n│\\n└── <model files>\\n```\\n\\nFor more information, see [Use your own inference code](your-algorithms-inference-main.md)\\\\.\\n\\n## Single Versus Multiple Containers<a name=\"sagemaker-toolkits-separate-images\"></a>\\n\\nYou can either provide separate Docker images for the training algorithm and inference code or you can use a single Docker image for both\\\\. When creating Docker images for use with SageMaker, consider the following:\\n+ Providing two Docker images can increase storage requirements and cost because common libraries might be duplicated\\\\.\\n+ In general, smaller containers start faster for both training and hosting\\\\. Models train faster and the hosting service can react to increases in traffic by automatically scaling more quickly\\\\.\\n+ You might be able to write an inference container that is significantly smaller than the training container\\\\. This is especially common when you use GPUs for training, but your inference code is optimized for CPUs\\\\.\\n+ SageMaker requires that Docker containers run without privileged access\\\\.\\n+ Both Docker containers that you build and those provided by SageMaker can send messages to the `Stdout` and `Stderr` files\\\\. SageMaker sends these messages to Amazon CloudWatch logs in your AWS account\\\\.\\n\\nFor more information about how to create SageMaker containers and how scripts are executed inside them, see the [SageMaker Training Toolkit](https://github.com/aws/sagemaker-training-toolkit) and [SageMaker Inference Toolkit](https://github.com/aws/sagemaker-inference-toolkit) repositories on GitHub\\\\. They also provide lists of important environmental variables and the environmental variables provided by SageMaker containers\\\\.'"
      ]
     },
     "execution_count": 5,
     "metadata": {},
     "output_type": "execute_result"
    }
   ],
   "source": [
    "df.iloc[0][1]"
   ]
  },
  {
   "cell_type": "code",
   "execution_count": 6,
   "metadata": {},
   "outputs": [],
   "source": [
    "docs = list()\n",
    "for index, row in df.iterrows():\n",
    "    docs.append(TaggedDocument(row['text'].lower().split(), row['id']))"
   ]
  },
  {
   "cell_type": "code",
   "execution_count": 7,
   "metadata": {},
   "outputs": [],
   "source": [
    "df['chunks'] = docs"
   ]
  },
  {
   "cell_type": "code",
   "execution_count": 8,
   "metadata": {},
   "outputs": [],
   "source": [
    "# Load a pre-trained doc2vec model\n",
    "\n",
    "#model = Doc2Vec.load(\"/enwiki_dbow/doc2vec.bin\")\n",
    "\n",
    "#Train a doc2vec model on the training data\n",
    "model = Doc2Vec(min_count=3, window=50, vector_size=150, workers=4, alpha=0.025, min_alpha=0.00025, dm=1)\n",
    "model.build_vocab(docs)\n",
    "model.train(docs, total_examples=model.corpus_count, epochs=model.epochs)"
   ]
  },
  {
   "cell_type": "code",
   "execution_count": 9,
   "metadata": {},
   "outputs": [],
   "source": [
    "# Infer the sentences and create a new dictionary where for each movie the vectors of the submissions where it appears\n",
    "# will show up\n",
    "\n",
    "inf_sents = []\n",
    "\n",
    "for index, row in df.iterrows():\n",
    "    inferred_sentence = model.infer_vector(row['chunks'][0]).tolist()\n",
    "    inf_sents.append(inferred_sentence)\n",
    "\n",
    "df['vector'] = inf_sents"
   ]
  },
  {
   "cell_type": "code",
   "execution_count": 10,
   "metadata": {},
   "outputs": [
    {
     "data": {
      "text/html": [
       "<div>\n",
       "<style scoped>\n",
       "    .dataframe tbody tr th:only-of-type {\n",
       "        vertical-align: middle;\n",
       "    }\n",
       "\n",
       "    .dataframe tbody tr th {\n",
       "        vertical-align: top;\n",
       "    }\n",
       "\n",
       "    .dataframe thead th {\n",
       "        text-align: right;\n",
       "    }\n",
       "</style>\n",
       "<table border=\"1\" class=\"dataframe\">\n",
       "  <thead>\n",
       "    <tr style=\"text-align: right;\">\n",
       "      <th></th>\n",
       "      <th>id</th>\n",
       "      <th>text</th>\n",
       "      <th>chunks</th>\n",
       "      <th>vector</th>\n",
       "    </tr>\n",
       "  </thead>\n",
       "  <tbody>\n",
       "    <tr>\n",
       "      <th>0</th>\n",
       "      <td>amazon-sagemaker-toolkits</td>\n",
       "      <td># Using the SageMaker Training and Inference T...</td>\n",
       "      <td>([#, using, the, sagemaker, training, and, inf...</td>\n",
       "      <td>[-0.1181814894080162, -3.0908892154693604, -1....</td>\n",
       "    </tr>\n",
       "    <tr>\n",
       "      <th>1</th>\n",
       "      <td>asff-resourcedetails-awssagemaker</td>\n",
       "      <td># AwsSageMaker&lt;a name=\"asff-resourcedetails-aw...</td>\n",
       "      <td>([#, awssagemaker&lt;a, name=\"asff-resourcedetail...</td>\n",
       "      <td>[-0.005288412794470787, -0.6258431077003479, -...</td>\n",
       "    </tr>\n",
       "    <tr>\n",
       "      <th>2</th>\n",
       "      <td>automating-sagemaker-with-eventbridge</td>\n",
       "      <td># Automating Amazon SageMaker with Amazon Even...</td>\n",
       "      <td>([#, automating, amazon, sagemaker, with, amaz...</td>\n",
       "      <td>[-1.0848573446273804, -3.225484609603882, -3.7...</td>\n",
       "    </tr>\n",
       "    <tr>\n",
       "      <th>3</th>\n",
       "      <td>aws-properties-events-rule-sagemakerpipelinepa...</td>\n",
       "      <td># AWS::Events::Rule SageMakerPipelineParameter...</td>\n",
       "      <td>([#, aws::events::rule, sagemakerpipelineparam...</td>\n",
       "      <td>[-0.18435446918010712, -0.2398490160703659, -0...</td>\n",
       "    </tr>\n",
       "    <tr>\n",
       "      <th>4</th>\n",
       "      <td>aws-properties-events-rule-sagemakerpipelinepa...</td>\n",
       "      <td># AWS::Events::Rule SageMakerPipelineParameter...</td>\n",
       "      <td>([#, aws::events::rule, sagemakerpipelineparam...</td>\n",
       "      <td>[-0.2381533533334732, -0.4498632252216339, -0....</td>\n",
       "    </tr>\n",
       "    <tr>\n",
       "      <th>...</th>\n",
       "      <td>...</td>\n",
       "      <td>...</td>\n",
       "      <td>...</td>\n",
       "      <td>...</td>\n",
       "    </tr>\n",
       "    <tr>\n",
       "      <th>331</th>\n",
       "      <td>sagemaker-rl-workflow</td>\n",
       "      <td># Sample RL Workflow Using Amazon SageMaker RL...</td>\n",
       "      <td>([#, sample, rl, workflow, using, amazon, sage...</td>\n",
       "      <td>[0.013776501640677452, -1.964380145072937, -1....</td>\n",
       "    </tr>\n",
       "    <tr>\n",
       "      <th>332</th>\n",
       "      <td>sagemaker-roles</td>\n",
       "      <td># SageMaker Roles&lt;a name=\"sagemaker-roles\"&gt;&lt;/a...</td>\n",
       "      <td>([#, sagemaker, roles&lt;a, name=\"sagemaker-roles...</td>\n",
       "      <td>[-0.3741878867149353, -3.3700742721557617, -2....</td>\n",
       "    </tr>\n",
       "    <tr>\n",
       "      <th>333</th>\n",
       "      <td>services-that-can-integrate-sagemaker</td>\n",
       "      <td># Amazon SageMaker and Application Auto Scalin...</td>\n",
       "      <td>([#, amazon, sagemaker, and, application, auto...</td>\n",
       "      <td>[-0.3637629449367523, -1.4911519289016724, -1....</td>\n",
       "    </tr>\n",
       "    <tr>\n",
       "      <th>334</th>\n",
       "      <td>train-evaluate-models-using-sagemaker-notebook</td>\n",
       "      <td># Train and Evaluate AWS DeepRacer Models Usin...</td>\n",
       "      <td>([#, train, and, evaluate, aws, deepracer, mod...</td>\n",
       "      <td>[-0.4809817969799042, -7.184512615203857, -3.2...</td>\n",
       "    </tr>\n",
       "    <tr>\n",
       "      <th>335</th>\n",
       "      <td>use-sagemaker-edge-manager</td>\n",
       "      <td># Use Amazon SageMaker Edge Manager on Greengr...</td>\n",
       "      <td>([#, use, amazon, sagemaker, edge, manager, on...</td>\n",
       "      <td>[-0.32360580563545227, 0.9316260814666748, -0....</td>\n",
       "    </tr>\n",
       "  </tbody>\n",
       "</table>\n",
       "<p>336 rows × 4 columns</p>\n",
       "</div>"
      ],
      "text/plain": [
       "                                                    id  \\\n",
       "0                            amazon-sagemaker-toolkits   \n",
       "1                    asff-resourcedetails-awssagemaker   \n",
       "2                automating-sagemaker-with-eventbridge   \n",
       "3    aws-properties-events-rule-sagemakerpipelinepa...   \n",
       "4    aws-properties-events-rule-sagemakerpipelinepa...   \n",
       "..                                                 ...   \n",
       "331                              sagemaker-rl-workflow   \n",
       "332                                    sagemaker-roles   \n",
       "333              services-that-can-integrate-sagemaker   \n",
       "334     train-evaluate-models-using-sagemaker-notebook   \n",
       "335                         use-sagemaker-edge-manager   \n",
       "\n",
       "                                                  text  \\\n",
       "0    # Using the SageMaker Training and Inference T...   \n",
       "1    # AwsSageMaker<a name=\"asff-resourcedetails-aw...   \n",
       "2    # Automating Amazon SageMaker with Amazon Even...   \n",
       "3    # AWS::Events::Rule SageMakerPipelineParameter...   \n",
       "4    # AWS::Events::Rule SageMakerPipelineParameter...   \n",
       "..                                                 ...   \n",
       "331  # Sample RL Workflow Using Amazon SageMaker RL...   \n",
       "332  # SageMaker Roles<a name=\"sagemaker-roles\"></a...   \n",
       "333  # Amazon SageMaker and Application Auto Scalin...   \n",
       "334  # Train and Evaluate AWS DeepRacer Models Usin...   \n",
       "335  # Use Amazon SageMaker Edge Manager on Greengr...   \n",
       "\n",
       "                                                chunks  \\\n",
       "0    ([#, using, the, sagemaker, training, and, inf...   \n",
       "1    ([#, awssagemaker<a, name=\"asff-resourcedetail...   \n",
       "2    ([#, automating, amazon, sagemaker, with, amaz...   \n",
       "3    ([#, aws::events::rule, sagemakerpipelineparam...   \n",
       "4    ([#, aws::events::rule, sagemakerpipelineparam...   \n",
       "..                                                 ...   \n",
       "331  ([#, sample, rl, workflow, using, amazon, sage...   \n",
       "332  ([#, sagemaker, roles<a, name=\"sagemaker-roles...   \n",
       "333  ([#, amazon, sagemaker, and, application, auto...   \n",
       "334  ([#, train, and, evaluate, aws, deepracer, mod...   \n",
       "335  ([#, use, amazon, sagemaker, edge, manager, on...   \n",
       "\n",
       "                                                vector  \n",
       "0    [-0.1181814894080162, -3.0908892154693604, -1....  \n",
       "1    [-0.005288412794470787, -0.6258431077003479, -...  \n",
       "2    [-1.0848573446273804, -3.225484609603882, -3.7...  \n",
       "3    [-0.18435446918010712, -0.2398490160703659, -0...  \n",
       "4    [-0.2381533533334732, -0.4498632252216339, -0....  \n",
       "..                                                 ...  \n",
       "331  [0.013776501640677452, -1.964380145072937, -1....  \n",
       "332  [-0.3741878867149353, -3.3700742721557617, -2....  \n",
       "333  [-0.3637629449367523, -1.4911519289016724, -1....  \n",
       "334  [-0.4809817969799042, -7.184512615203857, -3.2...  \n",
       "335  [-0.32360580563545227, 0.9316260814666748, -0....  \n",
       "\n",
       "[336 rows x 4 columns]"
      ]
     },
     "execution_count": 10,
     "metadata": {},
     "output_type": "execute_result"
    }
   ],
   "source": [
    "df"
   ]
  },
  {
   "cell_type": "code",
   "execution_count": 11,
   "metadata": {},
   "outputs": [],
   "source": [
    "def cosine_similarity(vec1, vec2):\n",
    "    \"\"\"\n",
    "    Calculate the cosine similarity between two \n",
    "    vector embeddings.\n",
    "\n",
    "    Returns:\n",
    "    - Cosine similarity: A float value between -1 and 1.\n",
    "    \"\"\"\n",
    "    # Ensure the vectors are numpy arrays\n",
    "    vec1 = np.array(vec1)\n",
    "    vec2 = np.array(vec2)\n",
    "\n",
    "    # Compute the dot product between the two vectors\n",
    "    dot_product = np.dot(vec1, vec2)\n",
    "\n",
    "    # Compute the L2 norms (magnitudes) of the vectors\n",
    "    norm_vec1 = np.linalg.norm(vec1)\n",
    "    norm_vec2 = np.linalg.norm(vec2)\n",
    "\n",
    "    # Calculate the cosine similarity\n",
    "    cosine_sim = dot_product / (norm_vec1 * norm_vec2)\n",
    "\n",
    "    return cosine_sim"
   ]
  },
  {
   "cell_type": "code",
   "execution_count": 13,
   "metadata": {},
   "outputs": [
    {
     "data": {
      "text/plain": [
       "[-0.1181814894080162,\n",
       " -3.0908892154693604,\n",
       " -1.736112356185913,\n",
       " 0.2511509954929352,\n",
       " -0.23577211797237396,\n",
       " -0.03822161629796028,\n",
       " -0.2445712685585022,\n",
       " -0.8660224080085754,\n",
       " -0.4731580913066864,\n",
       " 0.1082979291677475,\n",
       " -0.13967140018939972,\n",
       " -0.3961888253688812,\n",
       " 0.31445443630218506,\n",
       " 1.1530908346176147,\n",
       " -0.14591149985790253,\n",
       " 0.10137495398521423,\n",
       " 1.0784485340118408,\n",
       " 0.40090158581733704,\n",
       " -0.41255325078964233,\n",
       " -0.2285449206829071,\n",
       " 0.08738469332456589,\n",
       " -0.8943641781806946,\n",
       " 0.12962990999221802,\n",
       " 0.885036051273346,\n",
       " 0.7460244297981262,\n",
       " 0.86463463306427,\n",
       " 0.15630805492401123,\n",
       " 0.06582926958799362,\n",
       " -0.354600191116333,\n",
       " -0.7501123547554016,\n",
       " -0.16951961815357208,\n",
       " 1.1922591924667358,\n",
       " 0.28919246792793274,\n",
       " 0.051554735749959946,\n",
       " 0.0627203956246376,\n",
       " 0.3186033368110657,\n",
       " 1.0731112957000732,\n",
       " -0.17338716983795166,\n",
       " 0.946013867855072,\n",
       " 1.0521533489227295,\n",
       " -0.26154670119285583,\n",
       " 0.10744250565767288,\n",
       " -0.5542064905166626,\n",
       " -0.09652897715568542,\n",
       " -0.3126221299171448,\n",
       " -0.6179916858673096,\n",
       " -0.20882855355739594,\n",
       " -0.19225679337978363,\n",
       " 1.258617639541626,\n",
       " 0.9358403086662292,\n",
       " -1.2387405633926392,\n",
       " -0.8940185904502869,\n",
       " -0.7847148180007935,\n",
       " -0.4742250442504883,\n",
       " 0.2797642946243286,\n",
       " 0.7628104090690613,\n",
       " -1.2738076448440552,\n",
       " -1.1330962181091309,\n",
       " -0.023753929883241653,\n",
       " 0.6853117942810059,\n",
       " -0.21939583122730255,\n",
       " 1.9088906049728394,\n",
       " 0.16019785404205322,\n",
       " 0.295546293258667,\n",
       " -0.620173990726471,\n",
       " -0.48820438981056213,\n",
       " 0.7030647993087769,\n",
       " 0.6794024109840393,\n",
       " -0.6757329106330872,\n",
       " 0.48863157629966736,\n",
       " 0.45430615544319153,\n",
       " 0.14195658266544342,\n",
       " -1.0961312055587769,\n",
       " 0.23408226668834686,\n",
       " -0.14946548640727997,\n",
       " -0.44783684611320496,\n",
       " 0.2219061702489853,\n",
       " 0.3233318328857422,\n",
       " -1.9587950706481934,\n",
       " 0.046253353357315063,\n",
       " 0.738615870475769,\n",
       " 0.5970985889434814,\n",
       " 0.27152252197265625,\n",
       " 0.6235734224319458,\n",
       " -0.07274983078241348,\n",
       " 1.6160200834274292,\n",
       " -0.054240863770246506,\n",
       " -0.8470513820648193,\n",
       " -0.16985954344272614,\n",
       " 0.5829242467880249,\n",
       " -0.47904351353645325,\n",
       " -0.19203415513038635,\n",
       " -0.5109250545501709,\n",
       " -0.221464142203331,\n",
       " 0.09677276760339737,\n",
       " 0.8022861480712891,\n",
       " 0.3922872543334961,\n",
       " -0.033589914441108704,\n",
       " -0.32480525970458984,\n",
       " -0.2233072817325592,\n",
       " 0.7649475932121277,\n",
       " -1.3171168565750122,\n",
       " -0.4720394015312195,\n",
       " -1.6918060779571533,\n",
       " -0.9092633128166199,\n",
       " -0.04100247472524643,\n",
       " -0.19834408164024353,\n",
       " 1.15520179271698,\n",
       " -0.22423230111598969,\n",
       " -0.7944347858428955,\n",
       " 0.5235195159912109,\n",
       " -0.8754704594612122,\n",
       " -0.4520033895969391,\n",
       " -0.5925648808479309,\n",
       " 0.4790368378162384,\n",
       " 0.07941817492246628,\n",
       " 0.18841108679771423,\n",
       " -0.8028274774551392,\n",
       " -0.6494471430778503,\n",
       " 0.3109181821346283,\n",
       " -1.01259446144104,\n",
       " -0.5040121674537659,\n",
       " -0.9516887664794922,\n",
       " -0.12269286066293716,\n",
       " 0.31380173563957214,\n",
       " 0.28086692094802856,\n",
       " -0.6732317209243774,\n",
       " 0.10719805210828781,\n",
       " 0.6525717973709106,\n",
       " -0.05839988589286804,\n",
       " 1.0142360925674438,\n",
       " 1.3811290264129639,\n",
       " 0.23096926510334015,\n",
       " 0.7589325904846191,\n",
       " -0.6801867485046387,\n",
       " 1.2430086135864258,\n",
       " -0.9025992751121521,\n",
       " -1.382359504699707,\n",
       " -0.11737646162509918,\n",
       " 0.6486480236053467,\n",
       " 0.4535191059112549,\n",
       " 0.44924798607826233,\n",
       " -0.7524325251579285,\n",
       " -1.5602681636810303,\n",
       " 0.31351029872894287,\n",
       " -0.39882582426071167,\n",
       " 0.16313309967517853,\n",
       " -0.3921491205692291,\n",
       " 0.9595223665237427,\n",
       " -0.19127507507801056]"
      ]
     },
     "execution_count": 13,
     "metadata": {},
     "output_type": "execute_result"
    }
   ],
   "source": [
    "df.iloc[0]['vector']"
   ]
  },
  {
   "cell_type": "code",
   "execution_count": 14,
   "metadata": {},
   "outputs": [
    {
     "data": {
      "text/plain": [
       "0.9552895216290899"
      ]
     },
     "execution_count": 14,
     "metadata": {},
     "output_type": "execute_result"
    }
   ],
   "source": [
    "cosine_similarity(df.iloc[0]['vector'], df.iloc[1]['vector'])"
   ]
  },
  {
   "cell_type": "code",
   "execution_count": 15,
   "metadata": {},
   "outputs": [
    {
     "data": {
      "text/plain": [
       "0.7101502267509925"
      ]
     },
     "execution_count": 15,
     "metadata": {},
     "output_type": "execute_result"
    }
   ],
   "source": [
    "cosine_similarity(df.iloc[0]['vector'], df.iloc[9]['vector'])"
   ]
  },
  {
   "cell_type": "code",
   "execution_count": 16,
   "metadata": {},
   "outputs": [
    {
     "data": {
      "text/plain": [
       "0.6902863840386161"
      ]
     },
     "execution_count": 16,
     "metadata": {},
     "output_type": "execute_result"
    }
   ],
   "source": [
    "cosine_similarity(df.iloc[0]['vector'], df.iloc[10]['vector'])"
   ]
  },
  {
   "cell_type": "code",
   "execution_count": null,
   "metadata": {},
   "outputs": [],
   "source": []
  }
 ],
 "metadata": {
  "kernelspec": {
   "display_name": "Python 3 (ipykernel)",
   "language": "python",
   "name": "python3"
  },
  "language_info": {
   "codemirror_mode": {
    "name": "ipython",
    "version": 3
   },
   "file_extension": ".py",
   "mimetype": "text/x-python",
   "name": "python",
   "nbconvert_exporter": "python",
   "pygments_lexer": "ipython3",
   "version": "3.10.14"
  }
 },
 "nbformat": 4,
 "nbformat_minor": 4
}
